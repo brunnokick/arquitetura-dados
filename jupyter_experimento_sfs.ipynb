{
 "cells": [
  {
   "cell_type": "code",
   "execution_count": 13,
   "metadata": {
    "tags": []
   },
   "outputs": [
    {
     "output_type": "stream",
     "name": "stdout",
     "text": "The autoreload extension is already loaded. To reload it, use:\n  %reload_ext autoreload\n"
    }
   ],
   "source": [
    "%load_ext autoreload\n",
    "%autoreload 5"
   ]
  },
  {
   "cell_type": "code",
   "execution_count": 14,
   "metadata": {
    "pycharm": {
     "name": "#%%\n"
    }
   },
   "outputs": [],
   "source": [
    "import json\n",
    "import numpy as np\n",
    "import pandas as pd\n",
    "import random\n",
    "from weight_lifting import WeightLifting"
   ]
  },
  {
   "cell_type": "code",
   "execution_count": 15,
   "metadata": {},
   "outputs": [],
   "source": [
    "np.random.seed(42)\n",
    "random.seed(42)"
   ]
  },
  {
   "cell_type": "markdown",
   "metadata": {},
   "source": [
    "### BASE PADRAO"
   ]
  },
  {
   "cell_type": "code",
   "execution_count": 16,
   "metadata": {},
   "outputs": [],
   "source": [
    "engine = WeightLifting()\n",
    "df = engine.load_df()\n",
    "df = engine.transform(df)\n",
    "X_train, X_test, y_train, y_test = engine.create_train_test(df)\n",
    "base_padrao_predict = engine.fit_and_predict(X_train, X_test, y_train, y_test)\n",
    "#engine.plot_results(base_padrao_predict, X_test, y_test)\n",
    "\n",
    "sfs_predict = []"
   ]
  },
  {
   "cell_type": "markdown",
   "metadata": {},
   "source": [
    "### FEATURE SELECTION WITH SequentialFeatureSelector "
   ]
  },
  {
   "cell_type": "markdown",
   "metadata": {},
   "source": [
    "#### LOGISTIC REGRESSION"
   ]
  },
  {
   "cell_type": "code",
   "execution_count": 17,
   "metadata": {
    "tags": []
   },
   "outputs": [],
   "source": [
    "# ID 125\n",
    "features_lr = [\n",
    "'new_window', 'num_window', 'roll_belt', 'pitch_belt', 'yaw_belt', 'total_accel_belt', 'kurtosis_roll_belt', 'kurtosis_picth_belt', 'kurtosis_yaw_belt', 'skewness_roll_belt', 'skewness_roll_belt.1', 'skewness_yaw_belt', 'max_roll_belt', 'max_picth_belt', 'max_yaw_belt', 'min_roll_belt', 'min_pitch_belt', 'min_yaw_belt', 'amplitude_roll_belt', 'amplitude_pitch_belt', 'amplitude_yaw_belt', 'var_total_accel_belt', 'avg_roll_belt', 'stddev_roll_belt', 'var_roll_belt', 'avg_pitch_belt', 'stddev_pitch_belt', 'var_pitch_belt', 'avg_yaw_belt', 'stddev_yaw_belt', 'var_yaw_belt', 'gyros_belt_x', 'gyros_belt_y', 'gyros_belt_z', 'accel_belt_x', 'accel_belt_y', 'accel_belt_z', 'magnet_belt_x', 'magnet_belt_y', 'magnet_belt_z', 'roll_arm', 'pitch_arm', 'yaw_arm', 'total_accel_arm', 'var_accel_arm', 'avg_roll_arm', 'stddev_roll_arm', 'var_roll_arm', 'avg_pitch_arm', 'stddev_pitch_arm', 'var_pitch_arm', 'avg_yaw_arm', 'stddev_yaw_arm', 'var_yaw_arm', 'gyros_arm_x', 'gyros_arm_y', 'gyros_arm_z', 'accel_arm_x', 'accel_arm_y', 'accel_arm_z', 'magnet_arm_x', 'kurtosis_roll_arm', 'kurtosis_picth_arm', 'kurtosis_yaw_arm', 'skewness_roll_arm', 'skewness_pitch_arm', 'skewness_yaw_arm', 'max_roll_arm', 'max_picth_arm', 'max_yaw_arm', 'min_roll_arm', 'min_pitch_arm', 'min_yaw_arm', 'amplitude_roll_arm', 'amplitude_pitch_arm', 'amplitude_yaw_arm', 'pitch_dumbbell', 'yaw_dumbbell', 'kurtosis_roll_dumbbell', 'kurtosis_picth_dumbbell', 'kurtosis_yaw_dumbbell', 'skewness_roll_dumbbell', 'skewness_pitch_dumbbell', 'skewness_yaw_dumbbell', 'max_roll_dumbbell', 'max_picth_dumbbell', 'max_yaw_dumbbell', 'min_roll_dumbbell', 'min_pitch_dumbbell', 'min_yaw_dumbbell', 'amplitude_roll_dumbbell', 'amplitude_pitch_dumbbell', 'amplitude_yaw_dumbbell', 'total_accel_dumbbell', 'var_accel_dumbbell', 'gyros_dumbbell_y', 'pitch_forearm', 'max_picth_forearm', 'max_yaw_forearm', 'min_roll_forearm', 'min_pitch_forearm', 'min_yaw_forearm', 'amplitude_roll_forearm', 'amplitude_pitch_forearm', 'amplitude_yaw_forearm', 'total_accel_forearm', 'var_accel_forearm', 'avg_roll_forearm', 'stddev_roll_forearm', 'var_roll_forearm', 'avg_pitch_forearm', 'stddev_pitch_forearm', 'var_pitch_forearm', 'avg_yaw_forearm', 'stddev_yaw_forearm', 'var_yaw_forearm', 'gyros_forearm_x', 'gyros_forearm_y', 'gyros_forearm_z', 'accel_forearm_x', 'accel_forearm_y', 'accel_forearm_z', 'magnet_forearm_x', 'magnet_forearm_y', 'magnet_forearm_z'\n",
    "]\n",
    "#9911\n",
    "lr_X_train, lr_X_test, lr_y_train, lr_y_test = engine.create_train_test(df, features=features_lr)\n",
    "lr_predict = engine.fit_and_predict(lr_X_train, lr_X_test, lr_y_train, lr_y_test)\n",
    "lr_predict = lr_predict[0:1] # Somente o LR interessa\n",
    "sfs_predict.append(lr_predict)\n",
    "#engine.plot_results(lr_predict, lr_X_test, lr_y_test)"
   ]
  },
  {
   "cell_type": "markdown",
   "metadata": {},
   "source": [
    "#### SUPORT VECTOR MACHINES"
   ]
  },
  {
   "cell_type": "code",
   "execution_count": 18,
   "metadata": {
    "tags": []
   },
   "outputs": [],
   "source": [
    "# ID 103\n",
    "features_svm = [\n",
    "'raw_timestamp_part_1', 'raw_timestamp_part_2', 'new_window', 'num_window', 'pitch_belt', 'yaw_belt', 'total_accel_belt', 'kurtosis_roll_belt', 'kurtosis_picth_belt', 'kurtosis_yaw_belt', 'skewness_roll_belt', 'skewness_roll_belt.1', 'skewness_yaw_belt', 'max_yaw_belt', 'min_yaw_belt', 'amplitude_roll_belt', 'amplitude_pitch_belt', 'amplitude_yaw_belt', 'var_total_accel_belt', 'stddev_roll_belt', 'var_roll_belt', 'stddev_pitch_belt', 'var_pitch_belt', 'avg_yaw_belt', 'stddev_yaw_belt', 'gyros_belt_x', 'gyros_belt_y', 'gyros_belt_z', 'accel_belt_y', 'accel_belt_z', 'magnet_belt_y', 'magnet_belt_z', 'roll_arm', 'total_accel_arm', 'stddev_roll_arm', 'avg_pitch_arm', 'var_pitch_arm', 'avg_yaw_arm', 'gyros_arm_x', 'gyros_arm_y', 'gyros_arm_z', 'accel_arm_x', 'magnet_arm_z', 'kurtosis_roll_arm', 'kurtosis_picth_arm', 'kurtosis_yaw_arm', 'skewness_roll_arm', 'skewness_pitch_arm', 'skewness_yaw_arm', 'max_roll_arm', 'max_picth_arm', 'max_yaw_arm', 'min_pitch_arm', 'amplitude_roll_arm', 'kurtosis_roll_dumbbell', 'kurtosis_picth_dumbbell', 'kurtosis_yaw_dumbbell', 'skewness_roll_dumbbell', 'skewness_pitch_dumbbell', 'skewness_yaw_dumbbell', 'max_picth_dumbbell', 'max_yaw_dumbbell', 'min_yaw_dumbbell', 'amplitude_yaw_dumbbell', 'total_accel_dumbbell', 'var_accel_dumbbell', 'avg_roll_dumbbell', 'var_roll_dumbbell', 'avg_pitch_dumbbell', 'stddev_pitch_dumbbell', 'var_pitch_dumbbell', 'avg_yaw_dumbbell', 'var_yaw_dumbbell', 'gyros_dumbbell_x', 'gyros_dumbbell_y', 'gyros_dumbbell_z', 'magnet_dumbbell_x', 'kurtosis_roll_forearm', 'kurtosis_picth_forearm', 'kurtosis_yaw_forearm', 'skewness_roll_forearm', 'skewness_pitch_forearm', 'skewness_yaw_forearm', 'max_roll_forearm', 'max_yaw_forearm', 'min_roll_forearm', 'min_pitch_forearm', 'min_yaw_forearm', 'amplitude_roll_forearm', 'amplitude_pitch_forearm', 'amplitude_yaw_forearm', 'total_accel_forearm', 'var_accel_forearm', 'avg_roll_forearm', 'stddev_roll_forearm', 'var_roll_forearm', 'stddev_pitch_forearm', 'stddev_yaw_forearm', 'gyros_forearm_x', 'gyros_forearm_y', 'gyros_forearm_z', 'accel_forearm_x', 'magnet_forearm_z']\n",
    "\n",
    "svm_X_train, svm_X_test, svm_y_train, svm_y_test = engine.create_train_test(df, features=features_lr)\n",
    "svm_predict = engine.fit_and_predict(svm_X_train, svm_X_test, svm_y_train, svm_y_test)\n",
    "svm_predict = svm_predict[1:2] # Somente o SVM interessa\n",
    "sfs_predict.append(svm_predict)\n",
    "#engine.plot_results(svm_predict, svm_X_test, svm_y_test)"
   ]
  },
  {
   "cell_type": "markdown",
   "metadata": {},
   "source": [
    "#### MULTILAYER PERCEPTRON"
   ]
  },
  {
   "cell_type": "code",
   "execution_count": 19,
   "metadata": {
    "tags": []
   },
   "outputs": [],
   "source": [
    "# id 14\n",
    "features_MPL = ['num_window', 'skewness_roll_belt', 'avg_roll_belt', 'gyros_belt_y', 'roll_arm', 'stddev_roll_arm', 'avg_yaw_arm', 'stddev_yaw_arm', 'gyros_arm_x', 'skewness_pitch_arm', 'min_yaw_dumbbell', 'kurtosis_picth_forearm', 'max_yaw_forearm', 'avg_pitch_forearm']\n",
    "\n",
    "svm_X_train, svm_X_test, svm_y_train, svm_y_test = engine.create_train_test(df, features=features_lr)\n",
    "mpl_predict = engine.fit_and_predict(svm_X_train, svm_X_test, svm_y_train, svm_y_test)\n",
    "mpl_predict = mpl_predict[2:3] # Somente o mpl interessa\n",
    "sfs_predict.append(mpl_predict)\n",
    "#engine.plot_results(mpl_predict, svm_X_test, svm_y_test)"
   ]
  },
  {
   "cell_type": "markdown",
   "metadata": {},
   "source": [
    "### COMPARACAO DE RESULTADOS"
   ]
  },
  {
   "cell_type": "code",
   "execution_count": 21,
   "metadata": {},
   "outputs": [
    {
     "output_type": "execute_result",
     "data": {
      "text/plain": "[{'name': 'LR',\n  'model': LogisticRegression(C=0.1, class_weight=None, dual=False, fit_intercept=True,\n                     intercept_scaling=1, l1_ratio=None, max_iter=100,\n                     multi_class='ovr', n_jobs=None, penalty='l2',\n                     random_state=None, solver='newton-cg', tol=0.0001, verbose=0,\n                     warm_start=False),\n  'predict': array(['E', 'E', 'A', ..., 'A', 'E', 'E'], dtype=object)},\n {'name': 'SVM',\n  'model': SVC(C=10, break_ties=False, cache_size=200, class_weight=None, coef0=0.0,\n      decision_function_shape='ovr', degree=3, gamma=1e-05, kernel='rbf',\n      max_iter=-1, probability=True, random_state=None, shrinking=True, tol=0.001,\n      verbose=False),\n  'predict': array(['E', 'E', 'A', ..., 'A', 'E', 'E'], dtype=object)},\n {'name': 'MPL',\n  'model': MLPClassifier(activation='relu', alpha=0.0001, batch_size='auto', beta_1=0.9,\n                beta_2=0.999, early_stopping=False, epsilon=1e-08,\n                hidden_layer_sizes=(5, 2), learning_rate='constant',\n                learning_rate_init=0.001, max_fun=15000, max_iter=200,\n                momentum=0.9, n_iter_no_change=10, nesterovs_momentum=True,\n                power_t=0.5, random_state=None, shuffle=True, solver='sgd',\n                tol=0.0001, validation_fraction=0.1, verbose=False,\n                warm_start=False),\n  'predict': array(['A', 'A', 'A', ..., 'A', 'A', 'A'], dtype='<U1')}]"
     },
     "metadata": {},
     "execution_count": 21
    }
   ],
   "source": [
    "base_padrao_predict"
   ]
  },
  {
   "cell_type": "code",
   "execution_count": 20,
   "metadata": {},
   "outputs": [
    {
     "output_type": "execute_result",
     "data": {
      "text/plain": "[[{'name': 'LR',\n   'model': LogisticRegression(C=0.1, class_weight=None, dual=False, fit_intercept=True,\n                      intercept_scaling=1, l1_ratio=None, max_iter=100,\n                      multi_class='ovr', n_jobs=None, penalty='l2',\n                      random_state=None, solver='newton-cg', tol=0.0001, verbose=0,\n                      warm_start=False),\n   'predict': array(['E', 'E', 'A', ..., 'A', 'E', 'E'], dtype=object)}],\n [{'name': 'SVM',\n   'model': SVC(C=10, break_ties=False, cache_size=200, class_weight=None, coef0=0.0,\n       decision_function_shape='ovr', degree=3, gamma=1e-05, kernel='rbf',\n       max_iter=-1, probability=True, random_state=None, shrinking=True, tol=0.001,\n       verbose=False),\n   'predict': array(['E', 'E', 'A', ..., 'A', 'E', 'E'], dtype=object)}],\n [{'name': 'MPL',\n   'model': MLPClassifier(activation='relu', alpha=0.0001, batch_size='auto', beta_1=0.9,\n                 beta_2=0.999, early_stopping=False, epsilon=1e-08,\n                 hidden_layer_sizes=(5, 2), learning_rate='constant',\n                 learning_rate_init=0.001, max_fun=15000, max_iter=200,\n                 momentum=0.9, n_iter_no_change=10, nesterovs_momentum=True,\n                 power_t=0.5, random_state=None, shuffle=True, solver='sgd',\n                 tol=0.0001, validation_fraction=0.1, verbose=False,\n                 warm_start=False),\n   'predict': array(['A', 'A', 'A', ..., 'A', 'A', 'A'], dtype='<U1')}]]"
     },
     "metadata": {},
     "execution_count": 20
    }
   ],
   "source": [
    "sfs_predict"
   ]
  },
  {
   "cell_type": "code",
   "execution_count": null,
   "metadata": {},
   "outputs": [],
   "source": []
  }
 ],
 "metadata": {
  "kernelspec": {
   "display_name": "Python 3",
   "language": "python",
   "name": "python3"
  },
  "language_info": {
   "codemirror_mode": {
    "name": "ipython",
    "version": 3
   },
   "file_extension": ".py",
   "mimetype": "text/x-python",
   "name": "python",
   "nbconvert_exporter": "python",
   "pygments_lexer": "ipython3",
   "version": "3.7.6-final"
  }
 },
 "nbformat": 4,
 "nbformat_minor": 4
}