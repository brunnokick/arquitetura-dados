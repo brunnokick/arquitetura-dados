{
 "cells": [
  {
   "cell_type": "code",
   "execution_count": null,
   "metadata": {
    "tags": []
   },
   "outputs": [],
   "source": [
    "%load_ext autoreload\n",
    "%autoreload 5"
   ]
  },
  {
   "cell_type": "code",
   "execution_count": null,
   "metadata": {
    "pycharm": {
     "name": "#%%\n"
    }
   },
   "outputs": [],
   "source": [
    "import json\n",
    "import numpy as np\n",
    "import pandas as pd\n",
    "import random\n",
    "\n",
    "from sklearn.metrics import (\n",
    "    classification_report,\n",
    "    confusion_matrix,\n",
    "    accuracy_score,\n",
    "    f1_score,\n",
    "    precision_score,\n",
    "    recall_score,\n",
    "    plot_confusion_matrix,\n",
    ")\n",
    "\n",
    "import matplotlib\n",
    "import matplotlib.pyplot as plt\n",
    "import numpy as np\n",
    "\n",
    "from weight_lifting import WeightLifting\n",
    "from sfs_features import (\n",
    "    get_lr_features,\n",
    "    get_svm_features,\n",
    "    get_mpl_features\n",
    ")"
   ]
  },
  {
   "cell_type": "code",
   "execution_count": null,
   "metadata": {},
   "outputs": [],
   "source": [
    "np.random.seed(42)\n",
    "random.seed(42)"
   ]
  },
  {
   "cell_type": "markdown",
   "metadata": {},
   "source": [
    "### BASE PADRAO"
   ]
  },
  {
   "cell_type": "code",
   "execution_count": null,
   "metadata": {},
   "outputs": [],
   "source": [
    "engine = WeightLifting()\n",
    "df = engine.load_df()\n",
    "df = engine.transform(df)\n",
    "X_train, X_test, y_train, y_test = engine.create_train_test(df)\n",
    "base_padrao_predict = engine.fit_and_predict(X_train, X_test, y_train, y_test)\n",
    "#engine.plot_results(base_padrao_predict, X_test, y_test)\n",
    "\n",
    "sfs_predict = []"
   ]
  },
  {
   "cell_type": "markdown",
   "metadata": {},
   "source": [
    "### FEATURE SELECTION WITH SequentialFeatureSelector "
   ]
  },
  {
   "cell_type": "code",
   "execution_count": null,
   "metadata": {
    "tags": []
   },
   "outputs": [],
   "source": [
    "# LOGISTIC REGRESSION\n",
    "lr_X_train, lr_X_test, lr_y_train, lr_y_test = engine.create_train_test(df, features=get_mpl_features())\n",
    "lr_predict = engine.fit_and_predict(lr_X_train, lr_X_test, lr_y_train, lr_y_test)\n",
    "lr_predict = lr_predict[0:1][0] # Somente o LR interessa\n",
    "sfs_predict.append(lr_predict)\n",
    "\n",
    "# SUPORT VECTOR MACHINES\n",
    "svm_X_train, svm_X_test, svm_y_train, svm_y_test = engine.create_train_test(df, features=get_svm_features())\n",
    "svm_predict = engine.fit_and_predict(svm_X_train, svm_X_test, svm_y_train, svm_y_test)\n",
    "svm_predict = svm_predict[1:2][0] # Somente o SVM interessa\n",
    "sfs_predict.append(svm_predict)\n",
    "\n",
    "# MULTILAYER PERCEPTRON\n",
    "svm_X_train, svm_X_test, svm_y_train, svm_y_test = engine.create_train_test(df, features=get_mpl_features())\n",
    "mpl_predict = engine.fit_and_predict(svm_X_train, svm_X_test, svm_y_train, svm_y_test)\n",
    "mpl_predict = mpl_predict[2:3][0] # Somente o mpl interessa\n",
    "sfs_predict.append(mpl_predict)"
   ]
  },
  {
   "cell_type": "markdown",
   "metadata": {},
   "source": [
    "### COMPARACAO DE RESULTADOS"
   ]
  },
  {
   "cell_type": "code",
   "execution_count": null,
   "metadata": {},
   "outputs": [],
   "source": [
    "# Unificando os resultados em um unico DF\n",
    "resultados_inicial = pd.DataFrame(base_padrao_predict)\n",
    "resultados_inicial['ESTADO'] =  'INICIAL'\n",
    "\n",
    "resultados_sfs = pd.DataFrame(sfs_predict)\n",
    "resultados_sfs['ESTADO'] =  'SFS'\n",
    "\n",
    "resultados = pd.concat([resultados_inicial,resultados_sfs])\n",
    "resultados['NAME_ESTADO'] = resultados['name'] + '_' + resultados['ESTADO']"
   ]
  },
  {
   "cell_type": "code",
   "execution_count": null,
   "metadata": {},
   "outputs": [],
   "source": [
    "#round(accuracy_score(y_test, predict), 4)\n",
    "resultados['accuracy_score'] = resultados.apply(\n",
    "    lambda x: \n",
    "        round(accuracy_score(y_test, x['predict']), 4), axis=1)\n",
    "\n",
    "resultados['f1_score'] = resultados.apply(\n",
    "    lambda x: \n",
    "        round(f1_score(y_test, x['predict'], average='macro'), 4), axis=1)\n",
    "\n",
    "resultados['precision_score'] = resultados.apply(\n",
    "    lambda x: \n",
    "        round(precision_score(y_test, x['predict'], average='macro'), 4), axis=1)\n",
    "\n",
    "resultados['recall_score'] = resultados.apply(\n",
    "    lambda x: \n",
    "        round(recall_score(y_test, x['predict'], average='macro'), 4), axis=1)     \n",
    "        \n",
    "resultados.sort_values(by='name')"
   ]
  },
  {
   "cell_type": "code",
   "execution_count": null,
   "metadata": {},
   "outputs": [],
   "source": [
    "resultados"
   ]
  },
  {
   "cell_type": "code",
   "execution_count": null,
   "metadata": {},
   "outputs": [],
   "source": [
    "data = [[30, 25, 50, 20],\n",
    "[40, 23, 51, 17],\n",
    "[35, 22, 45, 19]]\n",
    "X = np.arange(4)\n",
    "fig = plt.figure()\n",
    "ax = fig.add_axes([0,0,1,1])\n",
    "ax.bar(X + 0.00, data[0], color = 'b', width = 0.25)\n",
    "ax.bar(X + 0.25, data[1], color = 'g', width = 0.25)\n",
    "ax.bar(X + 0.50, data[2], color = 'r', width = 0.25)"
   ]
  },
  {
   "cell_type": "code",
   "execution_count": null,
   "metadata": {},
   "outputs": [],
   "source": []
  }
 ],
 "metadata": {
  "kernelspec": {
   "display_name": "Python 3",
   "language": "python",
   "name": "python3"
  },
  "language_info": {
   "codemirror_mode": {
    "name": "ipython",
    "version": 3
   },
   "file_extension": ".py",
   "mimetype": "text/x-python",
   "name": "python",
   "nbconvert_exporter": "python",
   "pygments_lexer": "ipython3",
   "version": "3.7.6-final"
  }
 },
 "nbformat": 4,
 "nbformat_minor": 4
}