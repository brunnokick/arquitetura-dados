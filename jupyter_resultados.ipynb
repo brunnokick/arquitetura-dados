{
 "cells": [
  {
   "cell_type": "code",
   "execution_count": null,
   "metadata": {
    "tags": []
   },
   "outputs": [],
   "source": [
    "%load_ext autoreload\n",
    "%autoreload 5"
   ]
  },
  {
   "cell_type": "code",
   "execution_count": null,
   "metadata": {
    "pycharm": {
     "name": "#%%\n"
    }
   },
   "outputs": [],
   "source": [
    "import json\n",
    "import numpy as np\n",
    "import pandas as pd\n",
    "import random\n",
    "\n",
    "from sklearn.metrics import (\n",
    "    classification_report,\n",
    "    confusion_matrix,\n",
    "    accuracy_score,\n",
    "    f1_score,\n",
    "    precision_score,\n",
    "    recall_score,\n",
    "    plot_confusion_matrix,\n",
    ")\n",
    "\n",
    "import matplotlib\n",
    "import matplotlib.pyplot as plt\n",
    "import numpy as np\n",
    "\n",
    "from weight_lifting import WeightLifting\n",
    "from sfs_features import (\n",
    "    get_lr_features,\n",
    "    get_svm_features,\n",
    "    get_mpl_features\n",
    ")\n",
    "\n",
    "from sklearn.ensemble import IsolationForest"
   ]
  },
  {
   "cell_type": "code",
   "execution_count": null,
   "metadata": {},
   "outputs": [],
   "source": [
    "np.random.seed(42)\n",
    "random.seed(42)"
   ]
  },
  {
   "cell_type": "markdown",
   "metadata": {},
   "source": [
    "### BASE PADRAO"
   ]
  },
  {
   "cell_type": "code",
   "execution_count": null,
   "metadata": {},
   "outputs": [],
   "source": [
    "engine = WeightLifting()\n",
    "df = engine.load_df()\n",
    "df = engine.transform(df)\n",
    "X_train, X_test, y_train, y_test = engine.create_train_test(df)\n",
    "base_padrao_predict = engine.fit_and_predict(X_train, X_test, y_train, y_test)\n",
    "#engine.plot_results(base_padrao_predict, X_test, y_test)"
   ]
  },
  {
   "cell_type": "markdown",
   "metadata": {},
   "source": [
    "### FEATURE SELECTION WITH SequentialFeatureSelector "
   ]
  },
  {
   "cell_type": "code",
   "execution_count": null,
   "metadata": {
    "tags": []
   },
   "outputs": [],
   "source": [
    "sfs_predict = []\n",
    "\n",
    "# LOGISTIC REGRESSION\n",
    "lr_X_train, lr_X_test, lr_y_train, lr_y_test = engine.create_train_test(df, features=get_mpl_features())\n",
    "lr_predict = engine.fit_and_predict(lr_X_train, lr_X_test, lr_y_train, lr_y_test)\n",
    "lr_predict = lr_predict[0:1][0] # Somente o LR interessa\n",
    "#lr_predict.update({'X_TEST':lr_X_test})\n",
    "sfs_predict.append(lr_predict)\n",
    "\n",
    "# SUPORT VECTOR MACHINES\n",
    "svm_X_train, svm_X_test, svm_y_train, svm_y_test = engine.create_train_test(df, features=get_svm_features())\n",
    "svm_predict = engine.fit_and_predict(svm_X_train, svm_X_test, svm_y_train, svm_y_test)\n",
    "svm_predict = svm_predict[1:2][0] # Somente o SVM interessa\n",
    "#lr_predict.update({'X_TEST':svm_X_test})\n",
    "sfs_predict.append(svm_predict)\n",
    "\n",
    "# MULTILAYER PERCEPTRON\n",
    "mlp_X_train, mlp_X_test, mlp_y_train, mlp_y_test = engine.create_train_test(df, features=get_mpl_features())\n",
    "mpl_predict = engine.fit_and_predict(mlp_X_train, mlp_X_test, mlp_y_train, mlp_y_test)\n",
    "mpl_predict = mpl_predict[2:3][0] # Somente o mpl interessa\n",
    "#lr_predict.update({'X_TEST':mlp_X_test})\n",
    "sfs_predict.append(mpl_predict)\n",
    "\n",
    "#engine.plot_results([sfs_predict[0]], lr_X_test, lr_y_test)\n",
    "#engine.plot_results([sfs_predict[1]], svm_X_test, svm_y_test)\n",
    "#engine.plot_results([sfs_predict[2]], mlp_X_test, mlp_y_test)"
   ]
  },
  {
   "cell_type": "markdown",
   "metadata": {},
   "source": [
    "### ISOLATION FOREST"
   ]
  },
  {
   "cell_type": "code",
   "execution_count": null,
   "metadata": {
    "tags": []
   },
   "outputs": [],
   "source": [
    "iso = IsolationForest(contamination=0.05)\n",
    "predict = iso.fit_predict(df.iloc[:, 0:-1])\n",
    "\n",
    "mask = predict != -1\n",
    "\n",
    "iso_X_train, iso_X_test, iso_y_train, iso_y_test = engine.create_train_test(df.iloc[mask])\n",
    "\n",
    "isolation_predict = engine.fit_and_predict(iso_X_train, iso_X_test, iso_y_train, iso_y_test)\n",
    "#engine.plot_results(isolation_predict, iso_X_test, iso_y_test)\n",
    "#plot_confusion_matrix(isolation_predict[2]['model'], iso_X_test, iso_y_test, values_format = '.5g')"
   ]
  },
  {
   "cell_type": "markdown",
   "metadata": {},
   "source": [
    "### ISOLATION FOREST + SFS"
   ]
  },
  {
   "cell_type": "code",
   "execution_count": null,
   "metadata": {},
   "outputs": [],
   "source": [
    "iso_sfs_predict = []\n",
    "\n",
    "# LOGISTIC REGRESSION\n",
    "iso_lr_X_train, iso_lr_X_test, iso_lr_y_train, iso_lr_y_test = engine.create_train_test(df.iloc[mask], features=get_mpl_features())\n",
    "iso_lr_predict = engine.fit_and_predict(iso_lr_X_train, iso_lr_X_test, iso_lr_y_train, iso_lr_y_test)\n",
    "iso_lr_predict = iso_lr_predict[0:1][0] # Somente o LR interessa\n",
    "#lr_predict.update({'X_TEST':lr_X_test})\n",
    "iso_sfs_predict.append(iso_lr_predict)\n",
    "\n",
    "# SUPORT VECTOR MACHINES\n",
    "iso_svm_X_train, iso_svm_X_test, iso_svm_y_train, iso_svm_y_test = engine.create_train_test(df.iloc[mask], features=get_svm_features())\n",
    "iso_svm_predict = engine.fit_and_predict(iso_svm_X_train, iso_svm_X_test, iso_svm_y_train, iso_svm_y_test)\n",
    "iso_svm_predict = iso_svm_predict[1:2][0] # Somente o SVM interessa\n",
    "#lr_predict.update({'X_TEST':svm_X_test})\n",
    "iso_sfs_predict.append(iso_svm_predict)\n",
    "\n",
    "# MULTILAYER PERCEPTRON\n",
    "iso_mlp_X_train, iso_mlp_X_test, iso_mlp_y_train, iso_mlp_y_test = engine.create_train_test(df.iloc[mask], features=get_mpl_features())\n",
    "iso_mpl_predict = engine.fit_and_predict(iso_mlp_X_train, iso_mlp_X_test, iso_mlp_y_train, iso_mlp_y_test)\n",
    "iso_mpl_predict = iso_mpl_predict[2:3][0] # Somente o mpl interessa\n",
    "#lr_predict.update({'X_TEST':mlp_X_test})\n",
    "iso_sfs_predict.append(iso_mpl_predict)\n",
    "\n",
    "#plot_confusion_matrix(iso_sfs_predict[0]['model'], iso_lr_X_test, iso_lr_y_test, values_format = '.5g')\n",
    "#engine.plot_results([iso_sfs_predict[0]], iso_lr_X_test, iso_lr_y_test)\n",
    "#engine.plot_results([iso_sfs_predict[1]], iso_svm_X_test, iso_svm_y_test)\n",
    "#engine.plot_results([iso_sfs_predict[2]], iso_mlp_X_test, iso_mlp_y_test)"
   ]
  },
  {
   "cell_type": "code",
   "execution_count": null,
   "metadata": {},
   "outputs": [],
   "source": [
    "plot_confusion_matrix(iso_sfs_predict[2]['model'], iso_mlp_X_test, iso_mlp_y_test, values_format = '.5g')"
   ]
  },
  {
   "cell_type": "code",
   "execution_count": null,
   "metadata": {
    "tags": []
   },
   "outputs": [],
   "source": [
    "engine.plot_results([iso_sfs_predict[2]], iso_mlp_X_test, iso_mlp_y_test)"
   ]
  },
  {
   "cell_type": "markdown",
   "metadata": {},
   "source": [
    "### COMPARACAO DE RESULTADOS"
   ]
  },
  {
   "cell_type": "code",
   "execution_count": null,
   "metadata": {},
   "outputs": [],
   "source": [
    "# Unificando os resultados em um unico DF\n",
    "# PADRAO\n",
    "resultados_inicial = pd.DataFrame(base_padrao_predict)\n",
    "resultados_inicial['ESTADO'] = 'INICIAL'\n",
    "\n",
    "# SFS\n",
    "resultados_sfs = pd.DataFrame(sfs_predict)\n",
    "resultados_sfs['ESTADO'] = 'SFS'\n",
    "\n",
    "# ISO\n",
    "resultados_iso = pd.DataFrame(isolation_predict)\n",
    "resultados_iso['ESTADO'] = 'ISO'\n",
    "\n",
    "resultados = pd.concat([resultados_inicial,resultados_sfs, resultados_iso])\n",
    "resultados['NAME_ESTADO'] = resultados['name'] + '_' + resultados['ESTADO']"
   ]
  },
  {
   "cell_type": "code",
   "execution_count": null,
   "metadata": {},
   "outputs": [],
   "source": [
    "resultados"
   ]
  },
  {
   "cell_type": "code",
   "execution_count": null,
   "metadata": {},
   "outputs": [],
   "source": [
    "processando métricas\n",
    "resultados['accuracy_score'] = resultados.apply(\n",
    "    lambda x: \n",
    "        round(accuracy_score(y_test, x['predict']), 4), axis=1)\n",
    "\n",
    "resultados['f1_score'] = resultados.apply(\n",
    "    lambda x: \n",
    "        round(f1_score(y_test, x['predict'], average='macro'), 4), axis=1)\n",
    "\n",
    "resultados['precision_score'] = resultados.apply(\n",
    "    lambda x: \n",
    "        round(precision_score(y_test, x['predict'], average='macro'), 4), axis=1)\n",
    "\n",
    "resultados['recall_score'] = resultados.apply(\n",
    "    lambda x: \n",
    "        round(recall_score(y_test, x['predict'], average='macro'), 4), axis=1)     \n",
    "        \n",
    "resultados.sort_values(by='name')"
   ]
  },
  {
   "cell_type": "code",
   "execution_count": null,
   "metadata": {},
   "outputs": [],
   "source": []
  }
 ],
 "metadata": {
  "kernelspec": {
   "display_name": "Python 3",
   "language": "python",
   "name": "python3"
  },
  "language_info": {
   "codemirror_mode": {
    "name": "ipython",
    "version": 3
   },
   "file_extension": ".py",
   "mimetype": "text/x-python",
   "name": "python",
   "nbconvert_exporter": "python",
   "pygments_lexer": "ipython3",
   "version": "3.7.6-final"
  }
 },
 "nbformat": 4,
 "nbformat_minor": 4
}