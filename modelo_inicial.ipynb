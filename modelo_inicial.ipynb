{
 "cells": [
  {
   "cell_type": "code",
   "execution_count": 75,
   "metadata": {
    "pycharm": {
     "name": "#%%\n"
    }
   },
   "outputs": [],
   "source": [
    "# Modules import\n",
    "import csv\n",
    "\n",
    "import pandas as pd\n",
    "import numpy as np\n",
    "import matplotlib.pyplot as plt\n",
    "\n",
    "from pprint import pprint\n",
    "\n",
    "from sklearn.model_selection import (\n",
    "    train_test_split,\n",
    "    GridSearchCV,\n",
    ")\n",
    "from sklearn.metrics import (\n",
    "    classification_report,\n",
    "    confusion_matrix,\n",
    "    accuracy_score,\n",
    "    f1_score,\n",
    "    precision_score,\n",
    "    recall_score,\n",
    "    plot_confusion_matrix\n",
    ")\n",
    "from sklearn.linear_model import LogisticRegression\n",
    "from sklearn.neural_network import MLPClassifier\n",
    "from sklearn.svm import SVC\n",
    "from numpy.random import RandomState"
   ]
  },
  {
   "cell_type": "code",
   "execution_count": 76,
   "metadata": {
    "pycharm": {
     "name": "#%%\n"
    }
   },
   "outputs": [],
   "source": [
    "# Supressão de warnings\n",
    "import warnings\n",
    "\n",
    "warnings.filterwarnings(\"ignore\")"
   ]
  },
  {
   "cell_type": "code",
   "execution_count": 77,
   "metadata": {},
   "outputs": [],
   "source": [
    "# Aumenta o número de linhas para visualização\n",
    "pd.set_option('display.max_rows', 200)"
   ]
  },
  {
   "cell_type": "code",
   "execution_count": 78,
   "metadata": {
    "pycharm": {
     "name": "#%%\n"
    }
   },
   "outputs": [],
   "source": [
    "RANDOM_NUM = 42\n",
    "np.random.seed(42)\n",
    "RANDOM_STATE = RandomState(42)"
   ]
  },
  {
   "cell_type": "code",
   "execution_count": 79,
   "metadata": {
    "pycharm": {
     "name": "#%%\n"
    },
    "scrolled": false
   },
   "outputs": [
    {
     "data": {
      "text/html": [
       "<div>\n",
       "<style scoped>\n",
       "    .dataframe tbody tr th:only-of-type {\n",
       "        vertical-align: middle;\n",
       "    }\n",
       "\n",
       "    .dataframe tbody tr th {\n",
       "        vertical-align: top;\n",
       "    }\n",
       "\n",
       "    .dataframe thead th {\n",
       "        text-align: right;\n",
       "    }\n",
       "</style>\n",
       "<table border=\"1\" class=\"dataframe\">\n",
       "  <thead>\n",
       "    <tr style=\"text-align: right;\">\n",
       "      <th></th>\n",
       "      <th>user_name</th>\n",
       "      <th>raw_timestamp_part_1</th>\n",
       "      <th>raw_timestamp_part_2</th>\n",
       "      <th>cvtd_timestamp</th>\n",
       "      <th>new_window</th>\n",
       "      <th>num_window</th>\n",
       "      <th>roll_belt</th>\n",
       "      <th>pitch_belt</th>\n",
       "      <th>yaw_belt</th>\n",
       "      <th>total_accel_belt</th>\n",
       "      <th>...</th>\n",
       "      <th>gyros_forearm_x</th>\n",
       "      <th>gyros_forearm_y</th>\n",
       "      <th>gyros_forearm_z</th>\n",
       "      <th>accel_forearm_x</th>\n",
       "      <th>accel_forearm_y</th>\n",
       "      <th>accel_forearm_z</th>\n",
       "      <th>magnet_forearm_x</th>\n",
       "      <th>magnet_forearm_y</th>\n",
       "      <th>magnet_forearm_z</th>\n",
       "      <th>classe</th>\n",
       "    </tr>\n",
       "  </thead>\n",
       "  <tbody>\n",
       "    <tr>\n",
       "      <th>0</th>\n",
       "      <td>eurico</td>\n",
       "      <td>1322489729</td>\n",
       "      <td>34670</td>\n",
       "      <td>28/11/2011 14:15</td>\n",
       "      <td>no</td>\n",
       "      <td>1</td>\n",
       "      <td>3.70</td>\n",
       "      <td>41.6</td>\n",
       "      <td>-82.8</td>\n",
       "      <td>3</td>\n",
       "      <td>...</td>\n",
       "      <td>-0.05</td>\n",
       "      <td>-0.37</td>\n",
       "      <td>-0.43</td>\n",
       "      <td>-170</td>\n",
       "      <td>155</td>\n",
       "      <td>184</td>\n",
       "      <td>-1160</td>\n",
       "      <td>1400</td>\n",
       "      <td>-876</td>\n",
       "      <td>E</td>\n",
       "    </tr>\n",
       "    <tr>\n",
       "      <th>1</th>\n",
       "      <td>eurico</td>\n",
       "      <td>1322489729</td>\n",
       "      <td>62641</td>\n",
       "      <td>28/11/2011 14:15</td>\n",
       "      <td>no</td>\n",
       "      <td>1</td>\n",
       "      <td>3.66</td>\n",
       "      <td>42.8</td>\n",
       "      <td>-82.5</td>\n",
       "      <td>2</td>\n",
       "      <td>...</td>\n",
       "      <td>-0.06</td>\n",
       "      <td>-0.37</td>\n",
       "      <td>-0.59</td>\n",
       "      <td>-178</td>\n",
       "      <td>164</td>\n",
       "      <td>182</td>\n",
       "      <td>-1150</td>\n",
       "      <td>1410</td>\n",
       "      <td>-871</td>\n",
       "      <td>E</td>\n",
       "    </tr>\n",
       "    <tr>\n",
       "      <th>2</th>\n",
       "      <td>eurico</td>\n",
       "      <td>1322489729</td>\n",
       "      <td>70653</td>\n",
       "      <td>28/11/2011 14:15</td>\n",
       "      <td>no</td>\n",
       "      <td>1</td>\n",
       "      <td>3.58</td>\n",
       "      <td>43.7</td>\n",
       "      <td>-82.3</td>\n",
       "      <td>1</td>\n",
       "      <td>...</td>\n",
       "      <td>-0.05</td>\n",
       "      <td>-0.27</td>\n",
       "      <td>-0.72</td>\n",
       "      <td>-182</td>\n",
       "      <td>172</td>\n",
       "      <td>185</td>\n",
       "      <td>-1130</td>\n",
       "      <td>1400</td>\n",
       "      <td>-863</td>\n",
       "      <td>E</td>\n",
       "    </tr>\n",
       "    <tr>\n",
       "      <th>3</th>\n",
       "      <td>eurico</td>\n",
       "      <td>1322489729</td>\n",
       "      <td>82654</td>\n",
       "      <td>28/11/2011 14:15</td>\n",
       "      <td>no</td>\n",
       "      <td>1</td>\n",
       "      <td>3.56</td>\n",
       "      <td>44.4</td>\n",
       "      <td>-82.1</td>\n",
       "      <td>1</td>\n",
       "      <td>...</td>\n",
       "      <td>0.02</td>\n",
       "      <td>-0.24</td>\n",
       "      <td>-0.79</td>\n",
       "      <td>-185</td>\n",
       "      <td>182</td>\n",
       "      <td>188</td>\n",
       "      <td>-1120</td>\n",
       "      <td>1400</td>\n",
       "      <td>-855</td>\n",
       "      <td>E</td>\n",
       "    </tr>\n",
       "    <tr>\n",
       "      <th>4</th>\n",
       "      <td>eurico</td>\n",
       "      <td>1322489729</td>\n",
       "      <td>90637</td>\n",
       "      <td>28/11/2011 14:15</td>\n",
       "      <td>no</td>\n",
       "      <td>1</td>\n",
       "      <td>3.57</td>\n",
       "      <td>45.1</td>\n",
       "      <td>-81.9</td>\n",
       "      <td>1</td>\n",
       "      <td>...</td>\n",
       "      <td>0.08</td>\n",
       "      <td>-0.27</td>\n",
       "      <td>-0.82</td>\n",
       "      <td>-188</td>\n",
       "      <td>195</td>\n",
       "      <td>188</td>\n",
       "      <td>-1100</td>\n",
       "      <td>1400</td>\n",
       "      <td>-843</td>\n",
       "      <td>E</td>\n",
       "    </tr>\n",
       "  </tbody>\n",
       "</table>\n",
       "<p>5 rows × 159 columns</p>\n",
       "</div>"
      ],
      "text/plain": [
       "  user_name  raw_timestamp_part_1  raw_timestamp_part_2    cvtd_timestamp  \\\n",
       "0    eurico            1322489729                 34670  28/11/2011 14:15   \n",
       "1    eurico            1322489729                 62641  28/11/2011 14:15   \n",
       "2    eurico            1322489729                 70653  28/11/2011 14:15   \n",
       "3    eurico            1322489729                 82654  28/11/2011 14:15   \n",
       "4    eurico            1322489729                 90637  28/11/2011 14:15   \n",
       "\n",
       "  new_window  num_window  roll_belt  pitch_belt  yaw_belt  total_accel_belt  \\\n",
       "0         no           1       3.70        41.6     -82.8                 3   \n",
       "1         no           1       3.66        42.8     -82.5                 2   \n",
       "2         no           1       3.58        43.7     -82.3                 1   \n",
       "3         no           1       3.56        44.4     -82.1                 1   \n",
       "4         no           1       3.57        45.1     -81.9                 1   \n",
       "\n",
       "   ...  gyros_forearm_x gyros_forearm_y gyros_forearm_z  accel_forearm_x  \\\n",
       "0  ...            -0.05           -0.37           -0.43             -170   \n",
       "1  ...            -0.06           -0.37           -0.59             -178   \n",
       "2  ...            -0.05           -0.27           -0.72             -182   \n",
       "3  ...             0.02           -0.24           -0.79             -185   \n",
       "4  ...             0.08           -0.27           -0.82             -188   \n",
       "\n",
       "  accel_forearm_y accel_forearm_z  magnet_forearm_x  magnet_forearm_y  \\\n",
       "0             155             184             -1160              1400   \n",
       "1             164             182             -1150              1410   \n",
       "2             172             185             -1130              1400   \n",
       "3             182             188             -1120              1400   \n",
       "4             195             188             -1100              1400   \n",
       "\n",
       "   magnet_forearm_z  classe  \n",
       "0              -876       E  \n",
       "1              -871       E  \n",
       "2              -863       E  \n",
       "3              -855       E  \n",
       "4              -843       E  \n",
       "\n",
       "[5 rows x 159 columns]"
      ]
     },
     "execution_count": 79,
     "metadata": {},
     "output_type": "execute_result"
    }
   ],
   "source": [
    "df = pd.read_csv(\"weight_lifting.csv\", header=1)\n",
    "df.to_csv(r'outputs/original_database.csv', quoting=csv.QUOTE_NONNUMERIC)\n",
    "df.head()"
   ]
  },
  {
   "cell_type": "markdown",
   "metadata": {},
   "source": [
    "### Limpeza mínima da base de dados"
   ]
  },
  {
   "cell_type": "code",
   "execution_count": 80,
   "metadata": {},
   "outputs": [],
   "source": [
    "df.drop(columns=[\"user_name\", \"raw_timestamp_part_1\", \"raw_timestamp_part_2\", \"cvtd_timestamp\", \"new_window\", \"num_window\"], inplace=True)\n",
    "# df.dtypes"
   ]
  },
  {
   "cell_type": "code",
   "execution_count": 81,
   "metadata": {
    "pycharm": {
     "name": "#%%\n"
    }
   },
   "outputs": [],
   "source": [
    "# Corrigindo campos com \"#DIV/0!\"\n",
    "for col in df.columns:\n",
    "    if df[col].dtype == object and col != \"classe\":\n",
    "        df[col] = df[col].str.replace(\"#DIV/0!\", \"0\")\n",
    "        df[col] = df[col].astype(float)\n",
    "# df.dtypes"
   ]
  },
  {
   "cell_type": "code",
   "execution_count": 82,
   "metadata": {},
   "outputs": [],
   "source": [
    "# Corrigindo valores N/A com a média\n",
    "df.fillna(df.mean(), inplace=True)"
   ]
  },
  {
   "cell_type": "code",
   "execution_count": 83,
   "metadata": {},
   "outputs": [],
   "source": [
    "df.to_csv(r'outputs/cleaned_database.csv', quoting=csv.QUOTE_NONNUMERIC)"
   ]
  },
  {
   "cell_type": "markdown",
   "metadata": {},
   "source": [
    "### Divisão entre base de treino e teste"
   ]
  },
  {
   "cell_type": "code",
   "execution_count": 84,
   "metadata": {
    "pycharm": {
     "name": "#%%\n"
    }
   },
   "outputs": [],
   "source": [
    "# Datasets\n",
    "X = df.iloc[:, 0:-1]\n",
    "y = df.iloc[:, -1:]\n",
    "\n",
    "X_train, X_test, y_train, y_test = train_test_split(X, y, test_size=0.25,)\n"
   ]
  },
  {
   "cell_type": "markdown",
   "metadata": {},
   "source": [
    "### Descobrir os melhores parâmetros para os classificadores"
   ]
  },
  {
   "cell_type": "code",
   "execution_count": 71,
   "metadata": {
    "pycharm": {
     "name": "#%%\n"
    }
   },
   "outputs": [],
   "source": [
    "models_base = [\n",
    "    {\n",
    "        \"name\": \"LR\",\n",
    "        \"classifier\": LogisticRegression(),\n",
    "        \"parameters\": [\n",
    "            {\n",
    "                \"penalty\": [\"l2\"],\n",
    "                \"solver\": [\"newton-cg\", \"sag\", \"lbfgs\", \"liblinear\"],\n",
    "                \"C\": [0.001, 0.01, 0.1, 1, 10, 100, 1000],\n",
    "                \"fit_intercept\": [True, False],\n",
    "                \"multi_class\": [\"auto\", \"ovr\"],\n",
    "            },\n",
    "            {\n",
    "                \"penalty\": [\"elasticnet\"],\n",
    "                \"solver\": [\"saga\"],\n",
    "                \"C\": [0.001],\n",
    "                \"fit_intercept\": [True, False],\n",
    "                \"multi_class\": [\"auto\", \"ovr\", \"multinomial\"],\n",
    "                \"l1_ratio\": [0, 0.5, 1],\n",
    "            },\n",
    "        ],\n",
    "    },\n",
    "    {\n",
    "        \"name\": \"SVM\",\n",
    "        \"classifier\": SVC(),\n",
    "        \"parameters\": [\n",
    "            {\n",
    "                \"C\": [0.1, 0.5, 1, 10, 100, 500, 1000],\n",
    "                \"gamma\": [\"scale\"],\n",
    "                \"kernel\": [\"poly\"],\n",
    "                \"probability\": [True],\n",
    "            },\n",
    "            {\n",
    "                \"C\": [0.1, 0.5, 1, 10, 100, 500, 1000],\n",
    "                \"gamma\": [0.1, 0.001, 0.0001, 0.00001],\n",
    "                \"kernel\": [\"rbf\"],\n",
    "                \"probability\": [True],\n",
    "            },\n",
    "        ],\n",
    "    },\n",
    "    {\n",
    "        \"name\": \"MPL\",\n",
    "        \"classifier\": MLPClassifier(),\n",
    "        \"parameters\": [\n",
    "            {\n",
    "                \"solver\": [\"lbfgs\", \"sgd\", \"adam\"],\n",
    "                \"alpha\": [1e-4, 1e-5],\n",
    "                \"hidden_layer_sizes\": [(5, 2), (100,)],\n",
    "            }\n",
    "        ],\n",
    "    },\n",
    "]\n"
   ]
  },
  {
   "cell_type": "code",
   "execution_count": 69,
   "metadata": {
    "pycharm": {
     "name": "#%%\n"
    }
   },
   "outputs": [
    {
     "name": "stdout",
     "output_type": "stream",
     "text": [
      "Fitting 5 folds for each of 130 candidates, totalling 650 fits\n"
     ]
    },
    {
     "name": "stderr",
     "output_type": "stream",
     "text": [
      "[Parallel(n_jobs=-1)]: Using backend LokyBackend with 8 concurrent workers.\n",
      "[Parallel(n_jobs=-1)]: Done  34 tasks      | elapsed:   29.6s\n",
      "[Parallel(n_jobs=-1)]: Done 184 tasks      | elapsed:  2.4min\n",
      "[Parallel(n_jobs=-1)]: Done 434 tasks      | elapsed:  5.8min\n",
      "[Parallel(n_jobs=-1)]: Done 650 out of 650 | elapsed:  8.3min finished\n"
     ]
    },
    {
     "name": "stdout",
     "output_type": "stream",
     "text": [
      "{'best_parameters': {'C': 0.01,\n",
      "                     'fit_intercept': True,\n",
      "                     'multi_class': 'ovr',\n",
      "                     'penalty': 'l2',\n",
      "                     'solver': 'newton-cg'},\n",
      " 'best_score': 0.9923797129144564,\n",
      " 'model': GridSearchCV(estimator=LogisticRegression(), n_jobs=-1,\n",
      "             param_grid=[{'C': [0.001, 0.01, 0.1, 1, 10, 100, 1000],\n",
      "                          'fit_intercept': [True, False],\n",
      "                          'multi_class': ['auto', 'ovr'], 'penalty': ['l2'],\n",
      "                          'solver': ['newton-cg', 'sag', 'lbfgs', 'liblinear']},\n",
      "                         {'C': [0.001], 'fit_intercept': [True, False],\n",
      "                          'l1_ratio': [0, 0.5, 1],\n",
      "                          'multi_class': ['auto', 'ovr', 'multinomial'],\n",
      "                          'penalty': ['elasticnet'], 'solver': ['saga']}],\n",
      "             verbose=1),\n",
      " 'name': 'LR',\n",
      " 'predict': array(['E', 'E', 'A', ..., 'C', 'B', 'E'], dtype=object)}\n",
      "Fitting 5 folds for each of 35 candidates, totalling 175 fits\n"
     ]
    },
    {
     "name": "stderr",
     "output_type": "stream",
     "text": [
      "[Parallel(n_jobs=-1)]: Using backend LokyBackend with 8 concurrent workers.\n",
      "[Parallel(n_jobs=-1)]: Done  34 tasks      | elapsed:   25.2s\n",
      "[Parallel(n_jobs=-1)]: Done 175 out of 175 | elapsed:  5.9min finished\n"
     ]
    },
    {
     "name": "stdout",
     "output_type": "stream",
     "text": [
      "{'best_parameters': {'C': 10,\n",
      "                     'gamma': 1e-05,\n",
      "                     'kernel': 'rbf',\n",
      "                     'probability': True},\n",
      " 'best_score': 0.9877428530636003,\n",
      " 'model': GridSearchCV(estimator=SVC(), n_jobs=-1,\n",
      "             param_grid=[{'C': [0.1, 0.5, 1, 10, 100, 500, 1000],\n",
      "                          'gamma': ['scale'], 'kernel': ['poly'],\n",
      "                          'probability': [True]},\n",
      "                         {'C': [0.1, 0.5, 1, 10, 100, 500, 1000],\n",
      "                          'gamma': [0.1, 0.001, 0.0001, 1e-05],\n",
      "                          'kernel': ['rbf'], 'probability': [True]}],\n",
      "             verbose=1),\n",
      " 'name': 'SVM',\n",
      " 'predict': array(['E', 'E', 'A', ..., 'C', 'B', 'E'], dtype=object)}\n",
      "Fitting 5 folds for each of 12 candidates, totalling 60 fits\n"
     ]
    },
    {
     "name": "stderr",
     "output_type": "stream",
     "text": [
      "[Parallel(n_jobs=-1)]: Using backend LokyBackend with 8 concurrent workers.\n",
      "[Parallel(n_jobs=-1)]: Done  45 out of  60 | elapsed:   19.7s remaining:    6.6s\n",
      "[Parallel(n_jobs=-1)]: Done  60 out of  60 | elapsed:   24.6s finished\n"
     ]
    },
    {
     "name": "stdout",
     "output_type": "stream",
     "text": [
      "{'best_parameters': {'alpha': 0.0001,\n",
      "                     'hidden_layer_sizes': (100,),\n",
      "                     'solver': 'adam'},\n",
      " 'best_score': 0.9559350048872635,\n",
      " 'model': GridSearchCV(estimator=MLPClassifier(), n_jobs=-1,\n",
      "             param_grid=[{'alpha': [0.0001, 1e-05],\n",
      "                          'hidden_layer_sizes': [(5, 2), (100,)],\n",
      "                          'solver': ['lbfgs', 'sgd', 'adam']}],\n",
      "             verbose=1),\n",
      " 'name': 'MPL',\n",
      " 'predict': array(['E', 'E', 'A', ..., 'B', 'B', 'E'], dtype='<U1')}\n"
     ]
    }
   ],
   "source": [
    "# Treinar e predizer com GridSearchCV\n",
    "models_base_predict = []\n",
    "for mb in models_base:\n",
    "    model = GridSearchCV(mb[\"classifier\"], mb[\"parameters\"], n_jobs=-1, verbose=1)\n",
    "    model = model.fit(X_train, np.ravel(y_train, order=\"C\"))\n",
    "    predict = model.predict(X_test)\n",
    "\n",
    "    best_parameters = model.best_params_\n",
    "    result = {\n",
    "        \"name\": mb[\"name\"],\n",
    "        \"best_score\": model.best_score_,\n",
    "        \"best_parameters\": best_parameters,\n",
    "        \"predict\": predict,\n",
    "        \"model\": model,\n",
    "    }\n",
    "    pprint(result)\n",
    "    models_base_predict.append(result)\n"
   ]
  },
  {
   "cell_type": "markdown",
   "metadata": {},
   "source": [
    "### Treinar e predizer com os parâmetros ajustados"
   ]
  },
  {
   "cell_type": "code",
   "execution_count": 85,
   "metadata": {},
   "outputs": [],
   "source": [
    "models_base = [\n",
    "    ('LR', LogisticRegression(**{\n",
    "        'C': 0.01,\n",
    "        'fit_intercept': True,\n",
    "        'multi_class': 'ovr',\n",
    "        'penalty': 'l2',\n",
    "        'solver': 'newton-cg'})),\n",
    "    ('SVM', SVC(**{\n",
    "        'C': 10,\n",
    "        'gamma': 1e-05,\n",
    "        'kernel': 'rbf',\n",
    "        'probability': True})),\n",
    "    ('MPL', MLPClassifier(**{\n",
    "        'alpha': 0.0001,\n",
    "        'hidden_layer_sizes': (100,),\n",
    "        'solver': 'adam'}))\n",
    "]\n",
    "models_base_predict = []\n",
    "for result in models_base:\n",
    "    name, model = result\n",
    "    model.fit(X_train, y_train)\n",
    "    predict = model.predict(X_test)\n",
    "    models_base_predict.append({\n",
    "        \"name\": name,\n",
    "        \"model\": model,\n",
    "        \"predict\": predict\n",
    "    })"
   ]
  },
  {
   "cell_type": "markdown",
   "metadata": {},
   "source": [
    "### Avaliar predições"
   ]
  },
  {
   "cell_type": "code",
   "execution_count": 86,
   "metadata": {
    "pycharm": {
     "name": "#%%\n"
    }
   },
   "outputs": [],
   "source": [
    "\n",
    "def plot_results():\n",
    "    for result in models_base_predict:\n",
    "        print(f\"Model: {result['name']}\")\n",
    "        print(f\"Accuracy: {round(accuracy_score(y_test, result['predict']), 4)}\")\n",
    "        print(f\"F1: {round(f1_score(y_test, result['predict'], average='macro'), 4)}\")\n",
    "        print(f\"Precision: {round(precision_score(y_test, result['predict'], average='macro'), 4)}\")\n",
    "        print(f\"Recall: {round(recall_score(y_test, result['predict'], average='macro'), 4)}\")\n",
    "        print()\n",
    "        print(confusion_matrix(y_test, result[\"predict\"]))\n",
    "        print()\n",
    "        print(classification_report(y_test, result[\"predict\"]))\n",
    "        print()\n",
    "        plot_confusion_matrix(model, X_test, y_test)\n",
    "        plt.show()\n",
    "        print(\"--------------------------------------------\")\n"
   ]
  },
  {
   "cell_type": "code",
   "execution_count": 87,
   "metadata": {
    "pycharm": {
     "name": "#%%\n"
    }
   },
   "outputs": [
    {
     "name": "stdout",
     "output_type": "stream",
     "text": [
      "Model: LR\n",
      "Accuracy: 0.9881\n",
      "F1: 0.9829\n",
      "Precision: 0.979\n",
      "Recall: 0.9874\n",
      "\n",
      "[[323   2   0   0   0]\n",
      " [  7 209   2   0   0]\n",
      " [  0   0  26   0   0]\n",
      " [  0   0   0  64   1]\n",
      " [  0   0   0   0 372]]\n",
      "\n",
      "              precision    recall  f1-score   support\n",
      "\n",
      "           A       0.98      0.99      0.99       325\n",
      "           B       0.99      0.96      0.97       218\n",
      "           C       0.93      1.00      0.96        26\n",
      "           D       1.00      0.98      0.99        65\n",
      "           E       1.00      1.00      1.00       372\n",
      "\n",
      "    accuracy                           0.99      1006\n",
      "   macro avg       0.98      0.99      0.98      1006\n",
      "weighted avg       0.99      0.99      0.99      1006\n",
      "\n",
      "\n"
     ]
    },
    {
     "data": {
      "image/png": "[encoded data removed]",
      "text/plain": [
       "<Figure size 432x288 with 2 Axes>"
      ]
     },
     "metadata": {
      "needs_background": "light"
     },
     "output_type": "display_data"
    },
    {
     "name": "stdout",
     "output_type": "stream",
     "text": [
      "--------------------------------------------\n",
      "Model: SVM\n",
      "Accuracy: 0.9821\n",
      "F1: 0.9731\n",
      "Precision: 0.9899\n",
      "Recall: 0.9582\n",
      "\n",
      "[[320   0   0   0   5]\n",
      " [  0 211   0   0   7]\n",
      " [  0   2  23   0   1]\n",
      " [  0   0   0  62   3]\n",
      " [  0   0   0   0 372]]\n",
      "\n",
      "              precision    recall  f1-score   support\n",
      "\n",
      "           A       1.00      0.98      0.99       325\n",
      "           B       0.99      0.97      0.98       218\n",
      "           C       1.00      0.88      0.94        26\n",
      "           D       1.00      0.95      0.98        65\n",
      "           E       0.96      1.00      0.98       372\n",
      "\n",
      "    accuracy                           0.98      1006\n",
      "   macro avg       0.99      0.96      0.97      1006\n",
      "weighted avg       0.98      0.98      0.98      1006\n",
      "\n",
      "\n"
     ]
    },
    {
     "data": {
      "image/png": "[encoded data removed]",
      "text/plain": [
       "<Figure size 432x288 with 2 Axes>"
      ]
     },
     "metadata": {
      "needs_background": "light"
     },
     "output_type": "display_data"
    },
    {
     "name": "stdout",
     "output_type": "stream",
     "text": [
      "--------------------------------------------\n",
      "Model: MPL\n",
      "Accuracy: 0.9414\n",
      "F1: 0.8838\n",
      "Precision: 0.8746\n",
      "Recall: 0.8988\n",
      "\n",
      "[[324   1   0   0   0]\n",
      " [ 22 186   9   0   1]\n",
      " [  6   2  18   0   0]\n",
      " [  0   0   0  65   0]\n",
      " [  1   3   0  14 354]]\n",
      "\n",
      "              precision    recall  f1-score   support\n",
      "\n",
      "           A       0.92      1.00      0.96       325\n",
      "           B       0.97      0.85      0.91       218\n",
      "           C       0.67      0.69      0.68        26\n",
      "           D       0.82      1.00      0.90        65\n",
      "           E       1.00      0.95      0.97       372\n",
      "\n",
      "    accuracy                           0.94      1006\n",
      "   macro avg       0.87      0.90      0.88      1006\n",
      "weighted avg       0.95      0.94      0.94      1006\n",
      "\n",
      "\n"
     ]
    },
    {
     "data": {
      "image/png": "[encoded data removed]",
      "text/plain": [
       "<Figure size 432x288 with 2 Axes>"
      ]
     },
     "metadata": {
      "needs_background": "light"
     },
     "output_type": "display_data"
    },
    {
     "name": "stdout",
     "output_type": "stream",
     "text": [
      "--------------------------------------------\n"
     ]
    }
   ],
   "source": [
    "plot_results()"
   ]
  },
  {
   "cell_type": "code",
   "execution_count": null,
   "metadata": {
    "pycharm": {
     "name": "#%%\n"
    }
   },
   "outputs": [],
   "source": []
  }
 ],
 "metadata": {
  "kernelspec": {
   "display_name": "Python 3",
   "language": "python",
   "name": "python3"
  },
  "language_info": {
   "codemirror_mode": {
    "name": "ipython",
    "version": 3
   },
   "file_extension": ".py",
   "mimetype": "text/x-python",
   "name": "python",
   "nbconvert_exporter": "python",
   "pygments_lexer": "ipython3",
   "version": "3.8.5"
  }
 },
 "nbformat": 4,
 "nbformat_minor": 4
}
