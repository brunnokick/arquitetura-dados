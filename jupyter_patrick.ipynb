{
 "cells": [
  {
   "cell_type": "code",
   "execution_count": 317,
   "metadata": {
    "pycharm": {
     "name": "#%%\n"
    }
   },
   "outputs": [],
   "source": [
    "%load_ext autoreload\n",
    "%autoreload 5"
   ]
  },
  {
   "cell_type": "code",
   "execution_count": 318,
   "metadata": {
    "pycharm": {
     "name": "#%%\n"
    }
   },
   "outputs": [],
   "source": [
    "import json\n",
    "import numpy as np\n",
    "import pandas as pd\n",
    "import random\n",
    "from weight_lifting import WeightLifting"
   ]
  },
  {
   "cell_type": "code",
   "execution_count": 319,
   "metadata": {},
   "outputs": [],
   "source": [
    "np.random.seed(42)\n",
    "random.seed(42)"
   ]
  },
  {
   "cell_type": "markdown",
   "metadata": {
    "pycharm": {
     "name": "#%% md\n"
    }
   },
   "source": [
    "### BASE PADRAO (MINIMO DE ALTERACOES POSSIVEIS NOS DADOS)"
   ]
  },
  {
   "cell_type": "code",
   "execution_count": 321,
   "metadata": {
    "pycharm": {
     "name": "#%%\n"
    },
    "scrolled": false
   },
   "outputs": [
    {
     "data": {
      "text/html": [
       "<div>\n",
       "<style scoped>\n",
       "    .dataframe tbody tr th:only-of-type {\n",
       "        vertical-align: middle;\n",
       "    }\n",
       "\n",
       "    .dataframe tbody tr th {\n",
       "        vertical-align: top;\n",
       "    }\n",
       "\n",
       "    .dataframe thead th {\n",
       "        text-align: right;\n",
       "    }\n",
       "</style>\n",
       "<table border=\"1\" class=\"dataframe\">\n",
       "  <thead>\n",
       "    <tr style=\"text-align: right;\">\n",
       "      <th></th>\n",
       "      <th>user_name</th>\n",
       "      <th>raw_timestamp_part_1</th>\n",
       "      <th>raw_timestamp_part_2</th>\n",
       "      <th>cvtd_timestamp</th>\n",
       "      <th>new_window</th>\n",
       "      <th>num_window</th>\n",
       "      <th>roll_belt</th>\n",
       "      <th>pitch_belt</th>\n",
       "      <th>yaw_belt</th>\n",
       "      <th>total_accel_belt</th>\n",
       "      <th>...</th>\n",
       "      <th>gyros_forearm_x</th>\n",
       "      <th>gyros_forearm_y</th>\n",
       "      <th>gyros_forearm_z</th>\n",
       "      <th>accel_forearm_x</th>\n",
       "      <th>accel_forearm_y</th>\n",
       "      <th>accel_forearm_z</th>\n",
       "      <th>magnet_forearm_x</th>\n",
       "      <th>magnet_forearm_y</th>\n",
       "      <th>magnet_forearm_z</th>\n",
       "      <th>classe</th>\n",
       "    </tr>\n",
       "  </thead>\n",
       "  <tbody>\n",
       "    <tr>\n",
       "      <th>0</th>\n",
       "      <td>eurico</td>\n",
       "      <td>1322489729</td>\n",
       "      <td>34670</td>\n",
       "      <td>28/11/2011 14:15</td>\n",
       "      <td>no</td>\n",
       "      <td>1</td>\n",
       "      <td>3.70</td>\n",
       "      <td>41.6</td>\n",
       "      <td>-82.8</td>\n",
       "      <td>3</td>\n",
       "      <td>...</td>\n",
       "      <td>-0.05</td>\n",
       "      <td>-0.37</td>\n",
       "      <td>-0.43</td>\n",
       "      <td>-170</td>\n",
       "      <td>155</td>\n",
       "      <td>184</td>\n",
       "      <td>-1160</td>\n",
       "      <td>1400</td>\n",
       "      <td>-876</td>\n",
       "      <td>E</td>\n",
       "    </tr>\n",
       "    <tr>\n",
       "      <th>1</th>\n",
       "      <td>eurico</td>\n",
       "      <td>1322489729</td>\n",
       "      <td>62641</td>\n",
       "      <td>28/11/2011 14:15</td>\n",
       "      <td>no</td>\n",
       "      <td>1</td>\n",
       "      <td>3.66</td>\n",
       "      <td>42.8</td>\n",
       "      <td>-82.5</td>\n",
       "      <td>2</td>\n",
       "      <td>...</td>\n",
       "      <td>-0.06</td>\n",
       "      <td>-0.37</td>\n",
       "      <td>-0.59</td>\n",
       "      <td>-178</td>\n",
       "      <td>164</td>\n",
       "      <td>182</td>\n",
       "      <td>-1150</td>\n",
       "      <td>1410</td>\n",
       "      <td>-871</td>\n",
       "      <td>E</td>\n",
       "    </tr>\n",
       "    <tr>\n",
       "      <th>2</th>\n",
       "      <td>eurico</td>\n",
       "      <td>1322489729</td>\n",
       "      <td>70653</td>\n",
       "      <td>28/11/2011 14:15</td>\n",
       "      <td>no</td>\n",
       "      <td>1</td>\n",
       "      <td>3.58</td>\n",
       "      <td>43.7</td>\n",
       "      <td>-82.3</td>\n",
       "      <td>1</td>\n",
       "      <td>...</td>\n",
       "      <td>-0.05</td>\n",
       "      <td>-0.27</td>\n",
       "      <td>-0.72</td>\n",
       "      <td>-182</td>\n",
       "      <td>172</td>\n",
       "      <td>185</td>\n",
       "      <td>-1130</td>\n",
       "      <td>1400</td>\n",
       "      <td>-863</td>\n",
       "      <td>E</td>\n",
       "    </tr>\n",
       "    <tr>\n",
       "      <th>3</th>\n",
       "      <td>eurico</td>\n",
       "      <td>1322489729</td>\n",
       "      <td>82654</td>\n",
       "      <td>28/11/2011 14:15</td>\n",
       "      <td>no</td>\n",
       "      <td>1</td>\n",
       "      <td>3.56</td>\n",
       "      <td>44.4</td>\n",
       "      <td>-82.1</td>\n",
       "      <td>1</td>\n",
       "      <td>...</td>\n",
       "      <td>0.02</td>\n",
       "      <td>-0.24</td>\n",
       "      <td>-0.79</td>\n",
       "      <td>-185</td>\n",
       "      <td>182</td>\n",
       "      <td>188</td>\n",
       "      <td>-1120</td>\n",
       "      <td>1400</td>\n",
       "      <td>-855</td>\n",
       "      <td>E</td>\n",
       "    </tr>\n",
       "    <tr>\n",
       "      <th>4</th>\n",
       "      <td>eurico</td>\n",
       "      <td>1322489729</td>\n",
       "      <td>90637</td>\n",
       "      <td>28/11/2011 14:15</td>\n",
       "      <td>no</td>\n",
       "      <td>1</td>\n",
       "      <td>3.57</td>\n",
       "      <td>45.1</td>\n",
       "      <td>-81.9</td>\n",
       "      <td>1</td>\n",
       "      <td>...</td>\n",
       "      <td>0.08</td>\n",
       "      <td>-0.27</td>\n",
       "      <td>-0.82</td>\n",
       "      <td>-188</td>\n",
       "      <td>195</td>\n",
       "      <td>188</td>\n",
       "      <td>-1100</td>\n",
       "      <td>1400</td>\n",
       "      <td>-843</td>\n",
       "      <td>E</td>\n",
       "    </tr>\n",
       "  </tbody>\n",
       "</table>\n",
       "<p>5 rows × 159 columns</p>\n",
       "</div>"
      ],
      "text/plain": [
       "  user_name  raw_timestamp_part_1  raw_timestamp_part_2    cvtd_timestamp  \\\n",
       "0    eurico            1322489729                 34670  28/11/2011 14:15   \n",
       "1    eurico            1322489729                 62641  28/11/2011 14:15   \n",
       "2    eurico            1322489729                 70653  28/11/2011 14:15   \n",
       "3    eurico            1322489729                 82654  28/11/2011 14:15   \n",
       "4    eurico            1322489729                 90637  28/11/2011 14:15   \n",
       "\n",
       "  new_window  num_window  roll_belt  pitch_belt  yaw_belt  total_accel_belt  \\\n",
       "0         no           1       3.70        41.6     -82.8                 3   \n",
       "1         no           1       3.66        42.8     -82.5                 2   \n",
       "2         no           1       3.58        43.7     -82.3                 1   \n",
       "3         no           1       3.56        44.4     -82.1                 1   \n",
       "4         no           1       3.57        45.1     -81.9                 1   \n",
       "\n",
       "   ...  gyros_forearm_x gyros_forearm_y gyros_forearm_z  accel_forearm_x  \\\n",
       "0  ...            -0.05           -0.37           -0.43             -170   \n",
       "1  ...            -0.06           -0.37           -0.59             -178   \n",
       "2  ...            -0.05           -0.27           -0.72             -182   \n",
       "3  ...             0.02           -0.24           -0.79             -185   \n",
       "4  ...             0.08           -0.27           -0.82             -188   \n",
       "\n",
       "  accel_forearm_y accel_forearm_z  magnet_forearm_x  magnet_forearm_y  \\\n",
       "0             155             184             -1160              1400   \n",
       "1             164             182             -1150              1410   \n",
       "2             172             185             -1130              1400   \n",
       "3             182             188             -1120              1400   \n",
       "4             195             188             -1100              1400   \n",
       "\n",
       "   magnet_forearm_z  classe  \n",
       "0              -876       E  \n",
       "1              -871       E  \n",
       "2              -863       E  \n",
       "3              -855       E  \n",
       "4              -843       E  \n",
       "\n",
       "[5 rows x 159 columns]"
      ]
     },
     "execution_count": 321,
     "metadata": {},
     "output_type": "execute_result"
    }
   ],
   "source": [
    "engine = WeightLifting()\n",
    "df = engine.load_df()\n",
    "df = engine.transform(df)\n",
    "X_train, X_test, y_train, y_test = engine.create_train_test(df)\n",
    "base_padrao_predict = engine.fit_and_predict(X_train, X_test, y_train, y_test)\n",
    "engine.plot_results(base_padrao_predict, X_test, y_test)"
   ]
  },
  {
   "cell_type": "code",
   "execution_count": null,
   "metadata": {
    "pycharm": {
     "name": "#%%\n"
    }
   },
   "outputs": [],
   "source": []
  }
 ],
 "metadata": {
  "kernelspec": {
   "display_name": "Python 3",
   "language": "python",
   "name": "python3"
  },
  "language_info": {
   "codemirror_mode": {
    "name": "ipython",
    "version": 3
   },
   "file_extension": ".py",
   "mimetype": "text/x-python",
   "name": "python",
   "nbconvert_exporter": "python",
   "pygments_lexer": "ipython3",
   "version": "3.8.5"
  }
 },
 "nbformat": 4,
 "nbformat_minor": 4
}