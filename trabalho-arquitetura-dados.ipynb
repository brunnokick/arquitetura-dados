{
 "cells": [
  {
   "cell_type": "code",
   "execution_count": null,
   "metadata": {},
   "outputs": [],
   "source": [
    "import pandas as pd\n",
    "import numpy as np\n",
    "import random\n",
    "import matplotlib.pyplot as plt\n",
    "\n",
    "from sklearn.model_selection import (\n",
    "    train_test_split,\n",
    "    cross_val_score,\n",
    "    StratifiedKFold\n",
    ")\n",
    "from sklearn.metrics import (\n",
    "    classification_report,\n",
    "    confusion_matrix,\n",
    "    accuracy_score,\n",
    "    plot_confusion_matrix\n",
    ")\n",
    "from sklearn.linear_model import LogisticRegression\n",
    "from sklearn.neural_network import MLPClassifier\n",
    "from sklearn.svm import SVC"
   ]
  },
  {
   "cell_type": "code",
   "execution_count": null,
   "metadata": {},
   "outputs": [],
   "source": [
    "random = 42\n",
    "np.random.seed(42)"
   ]
  },
  {
   "cell_type": "code",
   "execution_count": null,
   "metadata": {},
   "outputs": [],
   "source": [
    "df = pd.read_csv(\"weight_lifting.csv\", header=1)\n",
    "df = df.drop(columns=['user_name', 'new_window','cvtd_timestamp'])\n",
    "df = df.fillna(0)\n",
    "#df.head()\n",
    "#df.groupby('classe').size()"
   ]
  },
  {
   "cell_type": "code",
   "execution_count": null,
   "metadata": {},
   "outputs": [],
   "source": [
    "columns = ['kurtosis_picth_belt', 'kurtosis_yaw_belt', 'skewness_roll_belt.1',\n",
    "           'skewness_yaw_belt', 'kurtosis_roll_arm', 'kurtosis_picth_arm',\n",
    "           'kurtosis_yaw_arm', 'skewness_roll_arm', 'skewness_pitch_arm',\n",
    "           'skewness_yaw_arm', 'kurtosis_yaw_dumbbell', 'skewness_yaw_dumbbell',\n",
    "           'kurtosis_roll_forearm', 'kurtosis_picth_forearm', 'kurtosis_yaw_forearm',\n",
    "           'skewness_roll_forearm', 'skewness_pitch_forearm', 'skewness_yaw_forearm',\n",
    "           'max_yaw_forearm', 'min_yaw_forearm', 'amplitude_yaw_forearm']\n",
    "for col in columns:\n",
    "    df[col] = df[col].astype(str)\n",
    "    df[col] = df[col].str.replace('#DIV/0!', '0')"
   ]
  },
  {
   "cell_type": "code",
   "execution_count": null,
   "metadata": {},
   "outputs": [],
   "source": [
    "# Datasets\n",
    "X = df.iloc[:, 0:-1]\n",
    "y = df.iloc[:, -1:]\n",
    "\n",
    "X_train, X_test, y_train, y_test = train_test_split(X, y, test_size=0.25)"
   ]
  },
  {
   "cell_type": "code",
   "execution_count": null,
   "metadata": {},
   "outputs": [],
   "source": [
    "# MODELS\n",
    "models_base = []\n",
    "models_base.append(('LR', LogisticRegression(solver='liblinear', multi_class='ovr')))\n",
    "models_base.append(('SVM', SVC(gamma='auto')))\n",
    "models_base.append(('MPL', MLPClassifier(solver='lbfgs', alpha=1e-5, hidden_layer_sizes=(5, 2), random_state=42)))"
   ]
  },
  {
   "cell_type": "code",
   "execution_count": null,
   "metadata": {
    "tags": []
   },
   "outputs": [],
   "source": [
    "# CROSS VAL SCORE\n",
    "for name, model in models_base:\n",
    "    kfold = StratifiedKFold(n_splits=10, random_state=42, shuffle=True)\n",
    "    cv_results = cross_val_score(model, X, y, cv=kfold, scoring='accuracy', n_jobs=3)\n",
    "    print('%s: %f (%f)' % (name, cv_results.mean(), cv_results.std()))"
   ]
  },
  {
   "cell_type": "code",
   "execution_count": null,
   "metadata": {
    "tags": []
   },
   "outputs": [],
   "source": [
    "# TRAIN AND PREDICT\n",
    "models_base_predict = []\n",
    "for result in models_base:\n",
    "    name, model = result\n",
    "    model.fit(X_train, y_train)\n",
    "    predict = model.predict(X_test)\n",
    "    models_base_predict.append((name, model, predict))"
   ]
  },
  {
   "cell_type": "markdown",
   "metadata": {},
   "source": [
    "### Evaluate predictions"
   ]
  },
  {
   "cell_type": "code",
   "execution_count": null,
   "metadata": {},
   "outputs": [],
   "source": [
    "def plot_results():\n",
    "    for result in models_base_predict:\n",
    "        name, model, predict = result\n",
    "        print(f'Model: {name}')\n",
    "        print(f' Accuracy: {round(accuracy_score(y_test, predict), 4)}')\n",
    "        print()\n",
    "        print(confusion_matrix(y_test, predict))\n",
    "        print()\n",
    "        print(classification_report(y_test, predict))\n",
    "        print()\n",
    "        plot_confusion_matrix(model, X_test, y_test)\n",
    "        plt.show()\n",
    "        print('--------------------------------------------')"
   ]
  },
  {
   "cell_type": "code",
   "execution_count": null,
   "metadata": {
    "tags": []
   },
   "outputs": [],
   "source": [
    "plot_results()"
   ]
  },
  {
   "cell_type": "code",
   "execution_count": null,
   "metadata": {},
   "outputs": [],
   "source": []
  }
 ],
 "metadata": {
  "kernelspec": {
   "display_name": "Python 3",
   "language": "python",
   "name": "python3"
  },
  "language_info": {
   "codemirror_mode": {
    "name": "ipython",
    "version": 3
   },
   "file_extension": ".py",
   "mimetype": "text/x-python",
   "name": "python",
   "nbconvert_exporter": "python",
   "pygments_lexer": "ipython3",
   "version": "3.7.6-final"
  }
 },
 "nbformat": 4,
 "nbformat_minor": 4
}