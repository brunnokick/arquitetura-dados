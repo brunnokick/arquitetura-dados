{
 "cells": [
  {
   "cell_type": "code",
   "execution_count": 1,
   "metadata": {},
   "outputs": [],
   "source": [
    "import pandas as pd\n",
    "import numpy as np\n",
    "import random\n",
    "import matplotlib.pyplot as plt\n",
    "\n",
    "from sklearn.model_selection import (\n",
    "    train_test_split,\n",
    "    cross_val_score,\n",
    "    StratifiedKFold\n",
    ")\n",
    "from sklearn.metrics import (\n",
    "    classification_report,\n",
    "    confusion_matrix,\n",
    "    accuracy_score,\n",
    "    plot_confusion_matrix\n",
    ")\n",
    "from sklearn.linear_model import LogisticRegression\n",
    "from sklearn.tree import DecisionTreeClassifier\n",
    "from sklearn.neighbors import KNeighborsClassifier\n",
    "from sklearn.discriminant_analysis import LinearDiscriminantAnalysis\n",
    "from sklearn.naive_bayes import GaussianNB\n",
    "from sklearn.svm import SVC"
   ]
  },
  {
   "cell_type": "code",
   "execution_count": 2,
   "metadata": {},
   "outputs": [],
   "source": [
    "random = 42\n",
    "np.random.seed(42)"
   ]
  },
  {
   "cell_type": "code",
   "execution_count": 3,
   "metadata": {},
   "outputs": [
    {
     "data": {
      "text/html": [
       "<div>\n",
       "<style scoped>\n",
       "    .dataframe tbody tr th:only-of-type {\n",
       "        vertical-align: middle;\n",
       "    }\n",
       "\n",
       "    .dataframe tbody tr th {\n",
       "        vertical-align: top;\n",
       "    }\n",
       "\n",
       "    .dataframe thead th {\n",
       "        text-align: right;\n",
       "    }\n",
       "</style>\n",
       "<table border=\"1\" class=\"dataframe\">\n",
       "  <thead>\n",
       "    <tr style=\"text-align: right;\">\n",
       "      <th></th>\n",
       "      <th>raw_timestamp_part_1</th>\n",
       "      <th>raw_timestamp_part_2</th>\n",
       "      <th>num_window</th>\n",
       "      <th>roll_belt</th>\n",
       "      <th>pitch_belt</th>\n",
       "      <th>yaw_belt</th>\n",
       "      <th>total_accel_belt</th>\n",
       "      <th>kurtosis_roll_belt</th>\n",
       "      <th>kurtosis_picth_belt</th>\n",
       "      <th>kurtosis_yaw_belt</th>\n",
       "      <th>...</th>\n",
       "      <th>gyros_forearm_x</th>\n",
       "      <th>gyros_forearm_y</th>\n",
       "      <th>gyros_forearm_z</th>\n",
       "      <th>accel_forearm_x</th>\n",
       "      <th>accel_forearm_y</th>\n",
       "      <th>accel_forearm_z</th>\n",
       "      <th>magnet_forearm_x</th>\n",
       "      <th>magnet_forearm_y</th>\n",
       "      <th>magnet_forearm_z</th>\n",
       "      <th>classe</th>\n",
       "    </tr>\n",
       "  </thead>\n",
       "  <tbody>\n",
       "    <tr>\n",
       "      <th>0</th>\n",
       "      <td>1322489729</td>\n",
       "      <td>34670</td>\n",
       "      <td>1</td>\n",
       "      <td>3.70</td>\n",
       "      <td>41.6</td>\n",
       "      <td>-82.80</td>\n",
       "      <td>3</td>\n",
       "      <td>0.000000</td>\n",
       "      <td>0</td>\n",
       "      <td>0</td>\n",
       "      <td>...</td>\n",
       "      <td>-0.05</td>\n",
       "      <td>-0.37</td>\n",
       "      <td>-0.43</td>\n",
       "      <td>-170</td>\n",
       "      <td>155</td>\n",
       "      <td>184</td>\n",
       "      <td>-1160</td>\n",
       "      <td>1400</td>\n",
       "      <td>-876</td>\n",
       "      <td>E</td>\n",
       "    </tr>\n",
       "    <tr>\n",
       "      <th>1</th>\n",
       "      <td>1322489729</td>\n",
       "      <td>62641</td>\n",
       "      <td>1</td>\n",
       "      <td>3.66</td>\n",
       "      <td>42.8</td>\n",
       "      <td>-82.50</td>\n",
       "      <td>2</td>\n",
       "      <td>0.000000</td>\n",
       "      <td>0</td>\n",
       "      <td>0</td>\n",
       "      <td>...</td>\n",
       "      <td>-0.06</td>\n",
       "      <td>-0.37</td>\n",
       "      <td>-0.59</td>\n",
       "      <td>-178</td>\n",
       "      <td>164</td>\n",
       "      <td>182</td>\n",
       "      <td>-1150</td>\n",
       "      <td>1410</td>\n",
       "      <td>-871</td>\n",
       "      <td>E</td>\n",
       "    </tr>\n",
       "    <tr>\n",
       "      <th>2</th>\n",
       "      <td>1322489729</td>\n",
       "      <td>70653</td>\n",
       "      <td>1</td>\n",
       "      <td>3.58</td>\n",
       "      <td>43.7</td>\n",
       "      <td>-82.30</td>\n",
       "      <td>1</td>\n",
       "      <td>0.000000</td>\n",
       "      <td>0</td>\n",
       "      <td>0</td>\n",
       "      <td>...</td>\n",
       "      <td>-0.05</td>\n",
       "      <td>-0.27</td>\n",
       "      <td>-0.72</td>\n",
       "      <td>-182</td>\n",
       "      <td>172</td>\n",
       "      <td>185</td>\n",
       "      <td>-1130</td>\n",
       "      <td>1400</td>\n",
       "      <td>-863</td>\n",
       "      <td>E</td>\n",
       "    </tr>\n",
       "    <tr>\n",
       "      <th>3</th>\n",
       "      <td>1322489729</td>\n",
       "      <td>82654</td>\n",
       "      <td>1</td>\n",
       "      <td>3.56</td>\n",
       "      <td>44.4</td>\n",
       "      <td>-82.10</td>\n",
       "      <td>1</td>\n",
       "      <td>0.000000</td>\n",
       "      <td>0</td>\n",
       "      <td>0</td>\n",
       "      <td>...</td>\n",
       "      <td>0.02</td>\n",
       "      <td>-0.24</td>\n",
       "      <td>-0.79</td>\n",
       "      <td>-185</td>\n",
       "      <td>182</td>\n",
       "      <td>188</td>\n",
       "      <td>-1120</td>\n",
       "      <td>1400</td>\n",
       "      <td>-855</td>\n",
       "      <td>E</td>\n",
       "    </tr>\n",
       "    <tr>\n",
       "      <th>4</th>\n",
       "      <td>1322489729</td>\n",
       "      <td>90637</td>\n",
       "      <td>1</td>\n",
       "      <td>3.57</td>\n",
       "      <td>45.1</td>\n",
       "      <td>-81.90</td>\n",
       "      <td>1</td>\n",
       "      <td>0.000000</td>\n",
       "      <td>0</td>\n",
       "      <td>0</td>\n",
       "      <td>...</td>\n",
       "      <td>0.08</td>\n",
       "      <td>-0.27</td>\n",
       "      <td>-0.82</td>\n",
       "      <td>-188</td>\n",
       "      <td>195</td>\n",
       "      <td>188</td>\n",
       "      <td>-1100</td>\n",
       "      <td>1400</td>\n",
       "      <td>-843</td>\n",
       "      <td>E</td>\n",
       "    </tr>\n",
       "    <tr>\n",
       "      <th>...</th>\n",
       "      <td>...</td>\n",
       "      <td>...</td>\n",
       "      <td>...</td>\n",
       "      <td>...</td>\n",
       "      <td>...</td>\n",
       "      <td>...</td>\n",
       "      <td>...</td>\n",
       "      <td>...</td>\n",
       "      <td>...</td>\n",
       "      <td>...</td>\n",
       "      <td>...</td>\n",
       "      <td>...</td>\n",
       "      <td>...</td>\n",
       "      <td>...</td>\n",
       "      <td>...</td>\n",
       "      <td>...</td>\n",
       "      <td>...</td>\n",
       "      <td>...</td>\n",
       "      <td>...</td>\n",
       "      <td>...</td>\n",
       "      <td>...</td>\n",
       "    </tr>\n",
       "    <tr>\n",
       "      <th>4019</th>\n",
       "      <td>1323095020</td>\n",
       "      <td>748318</td>\n",
       "      <td>91</td>\n",
       "      <td>122.00</td>\n",
       "      <td>25.7</td>\n",
       "      <td>-3.25</td>\n",
       "      <td>19</td>\n",
       "      <td>0.000000</td>\n",
       "      <td>0</td>\n",
       "      <td>0</td>\n",
       "      <td>...</td>\n",
       "      <td>-0.31</td>\n",
       "      <td>2.26</td>\n",
       "      <td>1.07</td>\n",
       "      <td>133</td>\n",
       "      <td>336</td>\n",
       "      <td>-126</td>\n",
       "      <td>-262</td>\n",
       "      <td>793</td>\n",
       "      <td>829</td>\n",
       "      <td>C</td>\n",
       "    </tr>\n",
       "    <tr>\n",
       "      <th>4020</th>\n",
       "      <td>1323095020</td>\n",
       "      <td>792346</td>\n",
       "      <td>91</td>\n",
       "      <td>122.00</td>\n",
       "      <td>25.7</td>\n",
       "      <td>-3.19</td>\n",
       "      <td>19</td>\n",
       "      <td>0.000000</td>\n",
       "      <td>0</td>\n",
       "      <td>0</td>\n",
       "      <td>...</td>\n",
       "      <td>-0.29</td>\n",
       "      <td>2.04</td>\n",
       "      <td>1.08</td>\n",
       "      <td>139</td>\n",
       "      <td>333</td>\n",
       "      <td>-132</td>\n",
       "      <td>-224</td>\n",
       "      <td>791</td>\n",
       "      <td>804</td>\n",
       "      <td>C</td>\n",
       "    </tr>\n",
       "    <tr>\n",
       "      <th>4021</th>\n",
       "      <td>1323095020</td>\n",
       "      <td>792551</td>\n",
       "      <td>91</td>\n",
       "      <td>122.00</td>\n",
       "      <td>25.6</td>\n",
       "      <td>-3.12</td>\n",
       "      <td>19</td>\n",
       "      <td>0.000000</td>\n",
       "      <td>0</td>\n",
       "      <td>0</td>\n",
       "      <td>...</td>\n",
       "      <td>-0.18</td>\n",
       "      <td>2.06</td>\n",
       "      <td>1.05</td>\n",
       "      <td>147</td>\n",
       "      <td>335</td>\n",
       "      <td>-139</td>\n",
       "      <td>-184</td>\n",
       "      <td>770</td>\n",
       "      <td>759</td>\n",
       "      <td>C</td>\n",
       "    </tr>\n",
       "    <tr>\n",
       "      <th>4022</th>\n",
       "      <td>1323095020</td>\n",
       "      <td>856300</td>\n",
       "      <td>91</td>\n",
       "      <td>122.00</td>\n",
       "      <td>25.6</td>\n",
       "      <td>-3.06</td>\n",
       "      <td>19</td>\n",
       "      <td>0.000000</td>\n",
       "      <td>0</td>\n",
       "      <td>0</td>\n",
       "      <td>...</td>\n",
       "      <td>-0.06</td>\n",
       "      <td>2.09</td>\n",
       "      <td>1.02</td>\n",
       "      <td>149</td>\n",
       "      <td>333</td>\n",
       "      <td>-148</td>\n",
       "      <td>-161</td>\n",
       "      <td>768</td>\n",
       "      <td>750</td>\n",
       "      <td>C</td>\n",
       "    </tr>\n",
       "    <tr>\n",
       "      <th>4023</th>\n",
       "      <td>1323095020</td>\n",
       "      <td>880307</td>\n",
       "      <td>91</td>\n",
       "      <td>122.00</td>\n",
       "      <td>25.5</td>\n",
       "      <td>-2.94</td>\n",
       "      <td>19</td>\n",
       "      <td>-0.745079</td>\n",
       "      <td>1.216445</td>\n",
       "      <td>#DIV/0!</td>\n",
       "      <td>...</td>\n",
       "      <td>-0.05</td>\n",
       "      <td>1.91</td>\n",
       "      <td>1.12</td>\n",
       "      <td>135</td>\n",
       "      <td>319</td>\n",
       "      <td>-148</td>\n",
       "      <td>-119</td>\n",
       "      <td>743</td>\n",
       "      <td>716</td>\n",
       "      <td>C</td>\n",
       "    </tr>\n",
       "  </tbody>\n",
       "</table>\n",
       "<p>4024 rows × 156 columns</p>\n",
       "</div>"
      ],
      "text/plain": [
       "      raw_timestamp_part_1  raw_timestamp_part_2  num_window  roll_belt  \\\n",
       "0               1322489729                 34670           1       3.70   \n",
       "1               1322489729                 62641           1       3.66   \n",
       "2               1322489729                 70653           1       3.58   \n",
       "3               1322489729                 82654           1       3.56   \n",
       "4               1322489729                 90637           1       3.57   \n",
       "...                    ...                   ...         ...        ...   \n",
       "4019            1323095020                748318          91     122.00   \n",
       "4020            1323095020                792346          91     122.00   \n",
       "4021            1323095020                792551          91     122.00   \n",
       "4022            1323095020                856300          91     122.00   \n",
       "4023            1323095020                880307          91     122.00   \n",
       "\n",
       "      pitch_belt  yaw_belt  total_accel_belt  kurtosis_roll_belt  \\\n",
       "0           41.6    -82.80                 3            0.000000   \n",
       "1           42.8    -82.50                 2            0.000000   \n",
       "2           43.7    -82.30                 1            0.000000   \n",
       "3           44.4    -82.10                 1            0.000000   \n",
       "4           45.1    -81.90                 1            0.000000   \n",
       "...          ...       ...               ...                 ...   \n",
       "4019        25.7     -3.25                19            0.000000   \n",
       "4020        25.7     -3.19                19            0.000000   \n",
       "4021        25.6     -3.12                19            0.000000   \n",
       "4022        25.6     -3.06                19            0.000000   \n",
       "4023        25.5     -2.94                19           -0.745079   \n",
       "\n",
       "     kurtosis_picth_belt kurtosis_yaw_belt  ...  gyros_forearm_x  \\\n",
       "0                      0                 0  ...            -0.05   \n",
       "1                      0                 0  ...            -0.06   \n",
       "2                      0                 0  ...            -0.05   \n",
       "3                      0                 0  ...             0.02   \n",
       "4                      0                 0  ...             0.08   \n",
       "...                  ...               ...  ...              ...   \n",
       "4019                   0                 0  ...            -0.31   \n",
       "4020                   0                 0  ...            -0.29   \n",
       "4021                   0                 0  ...            -0.18   \n",
       "4022                   0                 0  ...            -0.06   \n",
       "4023            1.216445           #DIV/0!  ...            -0.05   \n",
       "\n",
       "     gyros_forearm_y gyros_forearm_z  accel_forearm_x  accel_forearm_y  \\\n",
       "0              -0.37           -0.43             -170              155   \n",
       "1              -0.37           -0.59             -178              164   \n",
       "2              -0.27           -0.72             -182              172   \n",
       "3              -0.24           -0.79             -185              182   \n",
       "4              -0.27           -0.82             -188              195   \n",
       "...              ...             ...              ...              ...   \n",
       "4019            2.26            1.07              133              336   \n",
       "4020            2.04            1.08              139              333   \n",
       "4021            2.06            1.05              147              335   \n",
       "4022            2.09            1.02              149              333   \n",
       "4023            1.91            1.12              135              319   \n",
       "\n",
       "      accel_forearm_z  magnet_forearm_x  magnet_forearm_y  magnet_forearm_z  \\\n",
       "0                 184             -1160              1400              -876   \n",
       "1                 182             -1150              1410              -871   \n",
       "2                 185             -1130              1400              -863   \n",
       "3                 188             -1120              1400              -855   \n",
       "4                 188             -1100              1400              -843   \n",
       "...               ...               ...               ...               ...   \n",
       "4019             -126              -262               793               829   \n",
       "4020             -132              -224               791               804   \n",
       "4021             -139              -184               770               759   \n",
       "4022             -148              -161               768               750   \n",
       "4023             -148              -119               743               716   \n",
       "\n",
       "      classe  \n",
       "0          E  \n",
       "1          E  \n",
       "2          E  \n",
       "3          E  \n",
       "4          E  \n",
       "...      ...  \n",
       "4019       C  \n",
       "4020       C  \n",
       "4021       C  \n",
       "4022       C  \n",
       "4023       C  \n",
       "\n",
       "[4024 rows x 156 columns]"
      ]
     },
     "execution_count": 3,
     "metadata": {},
     "output_type": "execute_result"
    }
   ],
   "source": [
    "df = pd.read_csv(\"weight_lifting.csv\", header=1)\n",
    "df = df.drop(columns=['user_name', 'new_window','cvtd_timestamp'])\n",
    "df = df.fillna(0)\n",
    "df"
   ]
  },
  {
   "cell_type": "code",
   "execution_count": 64,
   "metadata": {},
   "outputs": [
    {
     "data": {
      "text/plain": [
       "(4024, 159)"
      ]
     },
     "execution_count": 64,
     "metadata": {},
     "output_type": "execute_result"
    }
   ],
   "source": [
    "df.shape"
   ]
  },
  {
   "cell_type": "code",
   "execution_count": 82,
   "metadata": {
    "scrolled": false
   },
   "outputs": [
    {
     "data": {
      "text/plain": [
       "classe\n",
       "A    1365\n",
       "B     901\n",
       "C     112\n",
       "D     276\n",
       "E    1370\n",
       "dtype: int64"
      ]
     },
     "execution_count": 82,
     "metadata": {},
     "output_type": "execute_result"
    }
   ],
   "source": [
    "df.groupby('classe').size()"
   ]
  },
  {
   "cell_type": "code",
   "execution_count": 5,
   "metadata": {},
   "outputs": [],
   "source": [
    "columns = ['kurtosis_picth_belt', 'kurtosis_yaw_belt', 'skewness_roll_belt.1',\n",
    "           'skewness_yaw_belt', 'kurtosis_roll_arm', 'kurtosis_picth_arm',\n",
    "           'kurtosis_yaw_arm', 'skewness_roll_arm', 'skewness_pitch_arm',\n",
    "           'skewness_yaw_arm', 'kurtosis_yaw_dumbbell', 'skewness_yaw_dumbbell',\n",
    "           'kurtosis_roll_forearm', 'kurtosis_picth_forearm', 'kurtosis_yaw_forearm',\n",
    "           'skewness_roll_forearm', 'skewness_pitch_forearm', 'skewness_yaw_forearm',\n",
    "           'max_yaw_forearm', 'min_yaw_forearm', 'amplitude_yaw_forearm']\n",
    "for col in columns:\n",
    "    df[col] = df[col].astype(str)\n",
    "    df[col] = df[col].str.replace('#DIV/0!', '0')"
   ]
  },
  {
   "cell_type": "code",
   "execution_count": 6,
   "metadata": {},
   "outputs": [],
   "source": [
    "X = df.iloc[:, 0:-1]\n",
    "y = df.iloc[:, -1:]\n",
    "\n",
    "X_train, X_test, y_train, y_test = train_test_split(X, y, test_size=0.25)"
   ]
  },
  {
   "cell_type": "code",
   "execution_count": 7,
   "metadata": {},
   "outputs": [
    {
     "name": "stderr",
     "output_type": "stream",
     "text": [
      "/Users/patrick/.local/pipx/venvs/jupyter/lib/python3.8/site-packages/sklearn/utils/validation.py:72: DataConversionWarning: A column-vector y was passed when a 1d array was expected. Please change the shape of y to (n_samples, ), for example using ravel().\n",
      "  return f(**kwargs)\n",
      "/Users/patrick/.local/pipx/venvs/jupyter/lib/python3.8/site-packages/sklearn/utils/validation.py:72: DataConversionWarning: A column-vector y was passed when a 1d array was expected. Please change the shape of y to (n_samples, ), for example using ravel().\n",
      "  return f(**kwargs)\n",
      "/Users/patrick/.local/pipx/venvs/jupyter/lib/python3.8/site-packages/sklearn/utils/validation.py:72: DataConversionWarning: A column-vector y was passed when a 1d array was expected. Please change the shape of y to (n_samples, ), for example using ravel().\n",
      "  return f(**kwargs)\n",
      "/Users/patrick/.local/pipx/venvs/jupyter/lib/python3.8/site-packages/sklearn/utils/validation.py:72: DataConversionWarning: A column-vector y was passed when a 1d array was expected. Please change the shape of y to (n_samples, ), for example using ravel().\n",
      "  return f(**kwargs)\n",
      "/Users/patrick/.local/pipx/venvs/jupyter/lib/python3.8/site-packages/sklearn/utils/validation.py:72: DataConversionWarning: A column-vector y was passed when a 1d array was expected. Please change the shape of y to (n_samples, ), for example using ravel().\n",
      "  return f(**kwargs)\n",
      "/Users/patrick/.local/pipx/venvs/jupyter/lib/python3.8/site-packages/sklearn/utils/validation.py:72: DataConversionWarning: A column-vector y was passed when a 1d array was expected. Please change the shape of y to (n_samples, ), for example using ravel().\n",
      "  return f(**kwargs)\n",
      "/Users/patrick/.local/pipx/venvs/jupyter/lib/python3.8/site-packages/sklearn/utils/validation.py:72: DataConversionWarning: A column-vector y was passed when a 1d array was expected. Please change the shape of y to (n_samples, ), for example using ravel().\n",
      "  return f(**kwargs)\n",
      "/Users/patrick/.local/pipx/venvs/jupyter/lib/python3.8/site-packages/sklearn/utils/validation.py:72: DataConversionWarning: A column-vector y was passed when a 1d array was expected. Please change the shape of y to (n_samples, ), for example using ravel().\n",
      "  return f(**kwargs)\n",
      "/Users/patrick/.local/pipx/venvs/jupyter/lib/python3.8/site-packages/sklearn/utils/validation.py:72: DataConversionWarning: A column-vector y was passed when a 1d array was expected. Please change the shape of y to (n_samples, ), for example using ravel().\n",
      "  return f(**kwargs)\n",
      "/Users/patrick/.local/pipx/venvs/jupyter/lib/python3.8/site-packages/sklearn/utils/validation.py:72: DataConversionWarning: A column-vector y was passed when a 1d array was expected. Please change the shape of y to (n_samples, ), for example using ravel().\n",
      "  return f(**kwargs)\n"
     ]
    },
    {
     "name": "stdout",
     "output_type": "stream",
     "text": [
      "LR: 0.344600 (0.000458)\n"
     ]
    },
    {
     "name": "stderr",
     "output_type": "stream",
     "text": [
      "/Users/patrick/.local/pipx/venvs/jupyter/lib/python3.8/site-packages/sklearn/utils/validation.py:72: DataConversionWarning: A column-vector y was passed when a 1d array was expected. Please change the shape of y to (n_samples, ), for example using ravel().\n",
      "  return f(**kwargs)\n",
      "/Users/patrick/.local/pipx/venvs/jupyter/lib/python3.8/site-packages/sklearn/utils/validation.py:72: DataConversionWarning: A column-vector y was passed when a 1d array was expected. Please change the shape of y to (n_samples, ), for example using ravel().\n",
      "  return f(**kwargs)\n",
      "/Users/patrick/.local/pipx/venvs/jupyter/lib/python3.8/site-packages/sklearn/utils/validation.py:72: DataConversionWarning: A column-vector y was passed when a 1d array was expected. Please change the shape of y to (n_samples, ), for example using ravel().\n",
      "  return f(**kwargs)\n",
      "/Users/patrick/.local/pipx/venvs/jupyter/lib/python3.8/site-packages/sklearn/utils/validation.py:72: DataConversionWarning: A column-vector y was passed when a 1d array was expected. Please change the shape of y to (n_samples, ), for example using ravel().\n",
      "  return f(**kwargs)\n",
      "/Users/patrick/.local/pipx/venvs/jupyter/lib/python3.8/site-packages/sklearn/utils/validation.py:72: DataConversionWarning: A column-vector y was passed when a 1d array was expected. Please change the shape of y to (n_samples, ), for example using ravel().\n",
      "  return f(**kwargs)\n",
      "/Users/patrick/.local/pipx/venvs/jupyter/lib/python3.8/site-packages/sklearn/utils/validation.py:72: DataConversionWarning: A column-vector y was passed when a 1d array was expected. Please change the shape of y to (n_samples, ), for example using ravel().\n",
      "  return f(**kwargs)\n",
      "/Users/patrick/.local/pipx/venvs/jupyter/lib/python3.8/site-packages/sklearn/utils/validation.py:72: DataConversionWarning: A column-vector y was passed when a 1d array was expected. Please change the shape of y to (n_samples, ), for example using ravel().\n",
      "  return f(**kwargs)\n",
      "/Users/patrick/.local/pipx/venvs/jupyter/lib/python3.8/site-packages/sklearn/utils/validation.py:72: DataConversionWarning: A column-vector y was passed when a 1d array was expected. Please change the shape of y to (n_samples, ), for example using ravel().\n",
      "  return f(**kwargs)\n",
      "/Users/patrick/.local/pipx/venvs/jupyter/lib/python3.8/site-packages/sklearn/utils/validation.py:72: DataConversionWarning: A column-vector y was passed when a 1d array was expected. Please change the shape of y to (n_samples, ), for example using ravel().\n",
      "  return f(**kwargs)\n",
      "/Users/patrick/.local/pipx/venvs/jupyter/lib/python3.8/site-packages/sklearn/utils/validation.py:72: DataConversionWarning: A column-vector y was passed when a 1d array was expected. Please change the shape of y to (n_samples, ), for example using ravel().\n",
      "  return f(**kwargs)\n"
     ]
    },
    {
     "name": "stdout",
     "output_type": "stream",
     "text": [
      "LDA: 0.978129 (0.005969)\n"
     ]
    },
    {
     "name": "stderr",
     "output_type": "stream",
     "text": [
      "/Users/patrick/.local/pipx/venvs/jupyter/lib/python3.8/site-packages/sklearn/model_selection/_validation.py:531: DataConversionWarning: A column-vector y was passed when a 1d array was expected. Please change the shape of y to (n_samples, ), for example using ravel().\n",
      "  estimator.fit(X_train, y_train, **fit_params)\n",
      "/Users/patrick/.local/pipx/venvs/jupyter/lib/python3.8/site-packages/sklearn/model_selection/_validation.py:531: DataConversionWarning: A column-vector y was passed when a 1d array was expected. Please change the shape of y to (n_samples, ), for example using ravel().\n",
      "  estimator.fit(X_train, y_train, **fit_params)\n",
      "/Users/patrick/.local/pipx/venvs/jupyter/lib/python3.8/site-packages/sklearn/model_selection/_validation.py:531: DataConversionWarning: A column-vector y was passed when a 1d array was expected. Please change the shape of y to (n_samples, ), for example using ravel().\n",
      "  estimator.fit(X_train, y_train, **fit_params)\n",
      "/Users/patrick/.local/pipx/venvs/jupyter/lib/python3.8/site-packages/sklearn/model_selection/_validation.py:531: DataConversionWarning: A column-vector y was passed when a 1d array was expected. Please change the shape of y to (n_samples, ), for example using ravel().\n",
      "  estimator.fit(X_train, y_train, **fit_params)\n",
      "/Users/patrick/.local/pipx/venvs/jupyter/lib/python3.8/site-packages/sklearn/model_selection/_validation.py:531: DataConversionWarning: A column-vector y was passed when a 1d array was expected. Please change the shape of y to (n_samples, ), for example using ravel().\n",
      "  estimator.fit(X_train, y_train, **fit_params)\n",
      "/Users/patrick/.local/pipx/venvs/jupyter/lib/python3.8/site-packages/sklearn/model_selection/_validation.py:531: DataConversionWarning: A column-vector y was passed when a 1d array was expected. Please change the shape of y to (n_samples, ), for example using ravel().\n",
      "  estimator.fit(X_train, y_train, **fit_params)\n",
      "/Users/patrick/.local/pipx/venvs/jupyter/lib/python3.8/site-packages/sklearn/model_selection/_validation.py:531: DataConversionWarning: A column-vector y was passed when a 1d array was expected. Please change the shape of y to (n_samples, ), for example using ravel().\n",
      "  estimator.fit(X_train, y_train, **fit_params)\n",
      "/Users/patrick/.local/pipx/venvs/jupyter/lib/python3.8/site-packages/sklearn/model_selection/_validation.py:531: DataConversionWarning: A column-vector y was passed when a 1d array was expected. Please change the shape of y to (n_samples, ), for example using ravel().\n",
      "  estimator.fit(X_train, y_train, **fit_params)\n",
      "/Users/patrick/.local/pipx/venvs/jupyter/lib/python3.8/site-packages/sklearn/model_selection/_validation.py:531: DataConversionWarning: A column-vector y was passed when a 1d array was expected. Please change the shape of y to (n_samples, ), for example using ravel().\n",
      "  estimator.fit(X_train, y_train, **fit_params)\n",
      "/Users/patrick/.local/pipx/venvs/jupyter/lib/python3.8/site-packages/sklearn/model_selection/_validation.py:531: DataConversionWarning: A column-vector y was passed when a 1d array was expected. Please change the shape of y to (n_samples, ), for example using ravel().\n",
      "  estimator.fit(X_train, y_train, **fit_params)\n"
     ]
    },
    {
     "name": "stdout",
     "output_type": "stream",
     "text": [
      "KNN: 0.585171 (0.020373)\n",
      "CART: 0.996688 (0.002565)\n"
     ]
    },
    {
     "name": "stderr",
     "output_type": "stream",
     "text": [
      "/Users/patrick/.local/pipx/venvs/jupyter/lib/python3.8/site-packages/sklearn/utils/validation.py:72: DataConversionWarning: A column-vector y was passed when a 1d array was expected. Please change the shape of y to (n_samples, ), for example using ravel().\n",
      "  return f(**kwargs)\n",
      "/Users/patrick/.local/pipx/venvs/jupyter/lib/python3.8/site-packages/sklearn/utils/validation.py:72: DataConversionWarning: A column-vector y was passed when a 1d array was expected. Please change the shape of y to (n_samples, ), for example using ravel().\n",
      "  return f(**kwargs)\n",
      "/Users/patrick/.local/pipx/venvs/jupyter/lib/python3.8/site-packages/sklearn/utils/validation.py:72: DataConversionWarning: A column-vector y was passed when a 1d array was expected. Please change the shape of y to (n_samples, ), for example using ravel().\n",
      "  return f(**kwargs)\n",
      "/Users/patrick/.local/pipx/venvs/jupyter/lib/python3.8/site-packages/sklearn/utils/validation.py:72: DataConversionWarning: A column-vector y was passed when a 1d array was expected. Please change the shape of y to (n_samples, ), for example using ravel().\n",
      "  return f(**kwargs)\n",
      "/Users/patrick/.local/pipx/venvs/jupyter/lib/python3.8/site-packages/sklearn/utils/validation.py:72: DataConversionWarning: A column-vector y was passed when a 1d array was expected. Please change the shape of y to (n_samples, ), for example using ravel().\n",
      "  return f(**kwargs)\n",
      "/Users/patrick/.local/pipx/venvs/jupyter/lib/python3.8/site-packages/sklearn/utils/validation.py:72: DataConversionWarning: A column-vector y was passed when a 1d array was expected. Please change the shape of y to (n_samples, ), for example using ravel().\n",
      "  return f(**kwargs)\n",
      "/Users/patrick/.local/pipx/venvs/jupyter/lib/python3.8/site-packages/sklearn/utils/validation.py:72: DataConversionWarning: A column-vector y was passed when a 1d array was expected. Please change the shape of y to (n_samples, ), for example using ravel().\n",
      "  return f(**kwargs)\n",
      "/Users/patrick/.local/pipx/venvs/jupyter/lib/python3.8/site-packages/sklearn/utils/validation.py:72: DataConversionWarning: A column-vector y was passed when a 1d array was expected. Please change the shape of y to (n_samples, ), for example using ravel().\n",
      "  return f(**kwargs)\n",
      "/Users/patrick/.local/pipx/venvs/jupyter/lib/python3.8/site-packages/sklearn/utils/validation.py:72: DataConversionWarning: A column-vector y was passed when a 1d array was expected. Please change the shape of y to (n_samples, ), for example using ravel().\n",
      "  return f(**kwargs)\n",
      "/Users/patrick/.local/pipx/venvs/jupyter/lib/python3.8/site-packages/sklearn/utils/validation.py:72: DataConversionWarning: A column-vector y was passed when a 1d array was expected. Please change the shape of y to (n_samples, ), for example using ravel().\n",
      "  return f(**kwargs)\n"
     ]
    },
    {
     "name": "stdout",
     "output_type": "stream",
     "text": [
      "NB: 0.654418 (0.051592)\n"
     ]
    },
    {
     "name": "stderr",
     "output_type": "stream",
     "text": [
      "/Users/patrick/.local/pipx/venvs/jupyter/lib/python3.8/site-packages/sklearn/utils/validation.py:72: DataConversionWarning: A column-vector y was passed when a 1d array was expected. Please change the shape of y to (n_samples, ), for example using ravel().\n",
      "  return f(**kwargs)\n",
      "/Users/patrick/.local/pipx/venvs/jupyter/lib/python3.8/site-packages/sklearn/utils/validation.py:72: DataConversionWarning: A column-vector y was passed when a 1d array was expected. Please change the shape of y to (n_samples, ), for example using ravel().\n",
      "  return f(**kwargs)\n",
      "/Users/patrick/.local/pipx/venvs/jupyter/lib/python3.8/site-packages/sklearn/utils/validation.py:72: DataConversionWarning: A column-vector y was passed when a 1d array was expected. Please change the shape of y to (n_samples, ), for example using ravel().\n",
      "  return f(**kwargs)\n",
      "/Users/patrick/.local/pipx/venvs/jupyter/lib/python3.8/site-packages/sklearn/utils/validation.py:72: DataConversionWarning: A column-vector y was passed when a 1d array was expected. Please change the shape of y to (n_samples, ), for example using ravel().\n",
      "  return f(**kwargs)\n",
      "/Users/patrick/.local/pipx/venvs/jupyter/lib/python3.8/site-packages/sklearn/utils/validation.py:72: DataConversionWarning: A column-vector y was passed when a 1d array was expected. Please change the shape of y to (n_samples, ), for example using ravel().\n",
      "  return f(**kwargs)\n",
      "/Users/patrick/.local/pipx/venvs/jupyter/lib/python3.8/site-packages/sklearn/utils/validation.py:72: DataConversionWarning: A column-vector y was passed when a 1d array was expected. Please change the shape of y to (n_samples, ), for example using ravel().\n",
      "  return f(**kwargs)\n",
      "/Users/patrick/.local/pipx/venvs/jupyter/lib/python3.8/site-packages/sklearn/utils/validation.py:72: DataConversionWarning: A column-vector y was passed when a 1d array was expected. Please change the shape of y to (n_samples, ), for example using ravel().\n",
      "  return f(**kwargs)\n",
      "/Users/patrick/.local/pipx/venvs/jupyter/lib/python3.8/site-packages/sklearn/utils/validation.py:72: DataConversionWarning: A column-vector y was passed when a 1d array was expected. Please change the shape of y to (n_samples, ), for example using ravel().\n",
      "  return f(**kwargs)\n",
      "/Users/patrick/.local/pipx/venvs/jupyter/lib/python3.8/site-packages/sklearn/utils/validation.py:72: DataConversionWarning: A column-vector y was passed when a 1d array was expected. Please change the shape of y to (n_samples, ), for example using ravel().\n",
      "  return f(**kwargs)\n",
      "/Users/patrick/.local/pipx/venvs/jupyter/lib/python3.8/site-packages/sklearn/utils/validation.py:72: DataConversionWarning: A column-vector y was passed when a 1d array was expected. Please change the shape of y to (n_samples, ), for example using ravel().\n",
      "  return f(**kwargs)\n"
     ]
    },
    {
     "name": "stdout",
     "output_type": "stream",
     "text": [
      "SVM: 0.344600 (0.000458)\n"
     ]
    }
   ],
   "source": [
    "models = []\n",
    "models.append(('LR', LogisticRegression(solver='liblinear', multi_class='ovr')))\n",
    "models.append(('LDA', LinearDiscriminantAnalysis()))\n",
    "models.append(('KNN', KNeighborsClassifier()))\n",
    "models.append(('CART', DecisionTreeClassifier()))\n",
    "models.append(('NB', GaussianNB()))\n",
    "models.append(('SVM', SVC(gamma='auto')))\n",
    "\n",
    "# evaluate each model in turn\n",
    "results = []\n",
    "names = []\n",
    "for name, model in models:\n",
    "    kfold = StratifiedKFold(n_splits=10, random_state=1, shuffle=True)\n",
    "    cv_results = cross_val_score(model, X_train, y_train, cv=kfold, scoring='accuracy')\n",
    "    results.append(cv_results)\n",
    "    names.append(name)\n",
    "    print('%s: %f (%f)' % (name, cv_results.mean(), cv_results.std()))"
   ]
  },
  {
   "cell_type": "code",
   "execution_count": 8,
   "metadata": {},
   "outputs": [
    {
     "name": "stdout",
     "output_type": "stream",
     "text": [
      "LR: 0.344600 (0.000458)\n",
      "LDA: 0.978129 (0.005969)\n",
      "KNN: 0.585171 (0.020373)\n",
      "CART: 0.996688 (0.002565)\n",
      "NB: 0.654418 (0.051592)\n",
      "SVM: 0.344600 (0.000458)\n"
     ]
    }
   ],
   "source": [
    "for name, result in zip(names, results):\n",
    "    print('%s: %f (%f)' % (name, result.mean(), result.std()))"
   ]
  },
  {
   "cell_type": "code",
   "execution_count": 9,
   "metadata": {
    "scrolled": true
   },
   "outputs": [
    {
     "data": {
      "image/png": "[encoded data removed]",
      "text/plain": [
       "<Figure size 432x288 with 1 Axes>"
      ]
     },
     "metadata": {
      "needs_background": "light"
     },
     "output_type": "display_data"
    }
   ],
   "source": [
    "# Compare Algorithms\n",
    "plt.boxplot(results, labels=names)\n",
    "plt.title('Algorithm Comparison')\n",
    "plt.show()"
   ]
  },
  {
   "cell_type": "code",
   "execution_count": 10,
   "metadata": {},
   "outputs": [],
   "source": [
    "# Make predictions on validation dataset\n",
    "model = DecisionTreeClassifier()\n",
    "model.fit(X_train, y_train)\n",
    "predictions = model.predict(X_test)"
   ]
  },
  {
   "cell_type": "markdown",
   "metadata": {},
   "source": [
    "### Evaluate predictions"
   ]
  },
  {
   "cell_type": "code",
   "execution_count": 11,
   "metadata": {},
   "outputs": [
    {
     "data": {
      "text/plain": [
       "0.9990059642147118"
      ]
     },
     "execution_count": 11,
     "metadata": {},
     "output_type": "execute_result"
    }
   ],
   "source": [
    "accuracy_score(y_test, predictions)"
   ]
  },
  {
   "cell_type": "code",
   "execution_count": 12,
   "metadata": {},
   "outputs": [
    {
     "data": {
      "text/plain": [
       "array([[325,   0,   0,   0,   0],\n",
       "       [  0, 218,   0,   0,   0],\n",
       "       [  0,   0,  26,   0,   0],\n",
       "       [  0,   0,   0,  64,   1],\n",
       "       [  0,   0,   0,   0, 372]])"
      ]
     },
     "execution_count": 12,
     "metadata": {},
     "output_type": "execute_result"
    }
   ],
   "source": [
    "confusion_matrix(y_test, predictions)"
   ]
  },
  {
   "cell_type": "code",
   "execution_count": 13,
   "metadata": {},
   "outputs": [
    {
     "data": {
      "image/png": "[encoded data removed]",
      "text/plain": [
       "<Figure size 432x288 with 2 Axes>"
      ]
     },
     "metadata": {
      "needs_background": "light"
     },
     "output_type": "display_data"
    }
   ],
   "source": [
    "plot_confusion_matrix(model, X_test, y_test)\n",
    "plt.show()"
   ]
  },
  {
   "cell_type": "code",
   "execution_count": 112,
   "metadata": {},
   "outputs": [
    {
     "name": "stdout",
     "output_type": "stream",
     "text": [
      "              precision    recall  f1-score   support\n",
      "\n",
      "           A       1.00      1.00      1.00       354\n",
      "           B       1.00      1.00      1.00       202\n",
      "           C       1.00      1.00      1.00        27\n",
      "           D       0.99      0.97      0.98        72\n",
      "           E       1.00      1.00      1.00       351\n",
      "\n",
      "    accuracy                           1.00      1006\n",
      "   macro avg       1.00      0.99      0.99      1006\n",
      "weighted avg       1.00      1.00      1.00      1006\n",
      "\n"
     ]
    }
   ],
   "source": [
    "print(classification_report(y_test, predictions))"
   ]
  }
 ],
 "metadata": {
  "kernelspec": {
   "display_name": "Python 3",
   "language": "python",
   "name": "python3"
  },
  "language_info": {
   "codemirror_mode": {
    "name": "ipython",
    "version": 3
   },
   "file_extension": ".py",
   "mimetype": "text/x-python",
   "name": "python",
   "nbconvert_exporter": "python",
   "pygments_lexer": "ipython3",
   "version": "3.8.5"
  }
 },
 "nbformat": 4,
 "nbformat_minor": 4
}
